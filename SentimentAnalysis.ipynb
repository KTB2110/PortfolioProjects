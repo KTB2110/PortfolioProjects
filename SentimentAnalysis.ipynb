{
  "nbformat": 4,
  "nbformat_minor": 0,
  "metadata": {
    "colab": {
      "name": "SentimentAnalysis.ipynb",
      "provenance": [],
      "authorship_tag": "ABX9TyOtq3DRu6Q/LjrW6sNXKetl",
      "include_colab_link": true
    },
    "kernelspec": {
      "name": "python3",
      "display_name": "Python 3"
    },
    "language_info": {
      "name": "python"
    }
  },
  "cells": [
    {
      "cell_type": "markdown",
      "metadata": {
        "id": "view-in-github",
        "colab_type": "text"
      },
      "source": [
        "<a href=\"https://colab.research.google.com/github/KTB2110/PortfolioProjects/blob/Projects/SentimentAnalysis.ipynb\" target=\"_parent\"><img src=\"https://colab.research.google.com/assets/colab-badge.svg\" alt=\"Open In Colab\"/></a>"
      ]
    },
    {
      "cell_type": "code",
      "execution_count": 47,
      "metadata": {
        "id": "_3-CKuIcedm-",
        "colab": {
          "base_uri": "https://localhost:8080/"
        },
        "outputId": "bac024e4-0a69-4194-db79-f89fedcdb79f"
      },
      "outputs": [
        {
          "output_type": "stream",
          "name": "stdout",
          "text": [
            "[nltk_data] Downloading package vader_lexicon to /root/nltk_data...\n",
            "[nltk_data]   Package vader_lexicon is already up-to-date!\n"
          ]
        }
      ],
      "source": [
        "import nltk\n",
        "nltk.download('vader_lexicon')\n",
        "from nltk.sentiment.vader import SentimentIntensityAnalyzer\n",
        "\n",
        "import pandas as pd\n",
        "from urllib.request import urlopen, Request\n",
        "from bs4 import BeautifulSoup\n",
        "import matplotlib.pyplot as plt"
      ]
    },
    {
      "cell_type": "code",
      "source": [
        "finviz_url = 'https://finviz.com/quote.ashx?t='\n",
        "tickers = ['AMZN', \"GOOG\", \"FB\"]\n",
        "\n",
        "news_tables = {}"
      ],
      "metadata": {
        "id": "6YXLGgnyefg3"
      },
      "execution_count": 48,
      "outputs": []
    },
    {
      "cell_type": "code",
      "source": [
        "for ticker in tickers:\n",
        "  url = finviz_url + ticker\n",
        "\n",
        "  req = Request(url = url, headers = {'user-agent' : 'my-app'})\n",
        "  response = urlopen(req)\n",
        "  \n",
        "  html = BeautifulSoup(response, 'html')\n",
        "  news_table = html.find(id = 'news-table')\n",
        "  news_tables[ticker] = news_table"
      ],
      "metadata": {
        "id": "9Oc2BJAp_enR"
      },
      "execution_count": 49,
      "outputs": []
    },
    {
      "cell_type": "code",
      "source": [
        "parsed_data = []"
      ],
      "metadata": {
        "id": "VEv_LVxXB8t2"
      },
      "execution_count": 50,
      "outputs": []
    },
    {
      "cell_type": "code",
      "source": [
        "for ticker, news_table in news_tables.items():\n",
        "  for row in news_table.findAll('tr'):\n",
        "    title = row.a.text\n",
        "    date_data = row.td.text.split(' ')\n",
        "\n",
        "    if len(date_data) == 1:\n",
        "      time = date_data[0]\n",
        "    else :\n",
        "      time = date_data[1]\n",
        "      date = date_data[0]\n",
        "\n",
        "    parsed_data.append([ticker, date, time, title])\n",
        "\n",
        "print(parsed_data)"
      ],
      "metadata": {
        "colab": {
          "base_uri": "https://localhost:8080/"
        },
        "id": "nChdwd3GBtdj",
        "outputId": "8a0262a2-bd01-4549-f28f-1cf905d3e676"
      },
      "execution_count": 51,
      "outputs": [
        {
          "output_type": "stream",
          "name": "stdout",
          "text": [
            "[['AMZN', 'Feb-10-22', '01:17PM\\xa0\\xa0', 'Market check: Stocks mixed after inflation print, Fed rate hike uncertainty'], ['AMZN', 'Feb-10-22', '01:05PM\\xa0\\xa0', 'Why IT Will Drive the Market in 2022  for Better or Worse'], ['AMZN', 'Feb-10-22', '11:45AM\\xa0\\xa0', 'A Pairing of Peloton and Amazon Makes a Lot of Sense'], ['AMZN', 'Feb-10-22', '11:39AM\\xa0\\xa0', \"Disney CEO: 'We continue to see value in the moviegoing experience'\"], ['AMZN', 'Feb-10-22', '11:28AM\\xa0\\xa0', 'Why Rivian Stock Sank and Then Jumped Today'], ['AMZN', 'Feb-10-22', '11:17AM\\xa0\\xa0', 'Market check: Stocks choppy as investors digest hot inflation'], ['AMZN', 'Feb-10-22', '11:13AM\\xa0\\xa0', 'PODCAST: National Taxpayer Advocate Erin M. Collins Wants to Help'], ['AMZN', 'Feb-10-22', '11:08AM\\xa0\\xa0', 'Disney Stock Pops As Earnings Top Amid Theme Park Revival; Disney+ Subscribers Strong'], ['AMZN', 'Feb-10-22', '11:06AM\\xa0\\xa0', \"Whole Foods Market, Inc. -- Moody's announces completion of a periodic review of ratings of Amazon.com, Inc.\"], ['AMZN', 'Feb-10-22', '10:27AM\\xa0\\xa0', 'Twilio Surges as Profit Outlook Removes Key Question Over Growth'], ['AMZN', 'Feb-10-22', '10:26AM\\xa0\\xa0', 'Disney earnings: The biggest surprise was in the theme park business, analyst says'], ['AMZN', 'Feb-10-22', '09:36AM\\xa0\\xa0', 'Disney earnings: Streaming subscribers, theme park revenue jump in Q1'], ['AMZN', 'Feb-10-22', '09:30AM\\xa0\\xa0', 'Is eBay a Top Stock to Buy and Hold in 2022 and Beyond?'], ['AMZN', 'Feb-10-22', '08:57AM\\xa0\\xa0', '3 Top Cloud Stocks to Buy in February'], ['AMZN', 'Feb-10-22', '07:56AM\\xa0\\xa0', \"Activist investors to nominate new Kohl's board members, suggest Kohl's visited Amazon\"], ['AMZN', 'Feb-10-22', '07:40AM\\xa0\\xa0', '3 Top Artificial Intelligence Stocks to Buy in February'], ['AMZN', 'Feb-10-22', '07:18AM\\xa0\\xa0', '1 Real Estate Stock to Play the E-Commerce Boom'], ['AMZN', 'Feb-10-22', '06:26AM\\xa0\\xa0', \"Can This Beaten-Down Growth Stock Overcome PayPal's Collapse?\"], ['AMZN', 'Feb-09-22', '07:10PM\\xa0\\xa0', 'Samsung Ends Note and Bets Big on Foldables to Tackle IPhone'], ['AMZN', 'Feb-09-22', '06:42PM\\xa0\\xa0', 'Disney parks still a few years off peak attendance, analyst says'], ['AMZN', 'Feb-09-22', '06:01PM\\xa0\\xa0', 'Disney Earnings: What Happened with DIS'], ['AMZN', 'Feb-09-22', '05:55PM\\xa0\\xa0', \"Worried About Another Market Downturn? Here's What Investors Should Focus on Instead\"], ['AMZN', 'Feb-09-22', '05:49PM\\xa0\\xa0', \"Amazon's headcount in Washington state swells past 85,000\"], ['AMZN', 'Feb-09-22', '04:45PM\\xa0\\xa0', 'Will Affirm Stock Surprise With Amazon-Driven Beat And Raise?'], ['AMZN', 'Feb-09-22', '04:03PM\\xa0\\xa0', \"Don't Expect Big Gains From This Stock Market Sector in 2022\"], ['AMZN', 'Feb-09-22', '03:20PM\\xa0\\xa0', 'Could This Unstoppable Stock have 100% or More Upside?'], ['AMZN', 'Feb-09-22', '02:52PM\\xa0\\xa0', 'Biggest Single-Day Market Cap Drops in U.S. Stocks'], ['AMZN', 'Feb-09-22', '02:29PM\\xa0\\xa0', \"Fed 'at or approaching peak hawkishness, strategist says\"], ['AMZN', 'Feb-09-22', '02:26PM\\xa0\\xa0', 'Metas Stock Slide Puts Spotlight on Tech Antitrust Bill Criteria'], ['AMZN', 'Feb-09-22', '02:03PM\\xa0\\xa0', 'Robotic delivery fleets could multiply across Atlanta, with new state regulations'], ['AMZN', 'Feb-09-22', '01:44PM\\xa0\\xa0', \"Meta Is Now Calling Out Google Over Apple's App Privacy Rules\"], ['AMZN', 'Feb-09-22', '01:40PM\\xa0\\xa0', 'Meta shares rise, travel stocks up, Chinese EV makers rally'], ['AMZN', 'Feb-09-22', '11:33AM\\xa0\\xa0', \"Stock market theme in 2022 is about 'show me the money,' strategist says\"], ['AMZN', 'Feb-09-22', '11:25AM\\xa0\\xa0', 'Silicon Valleys Congressman wants to rein in Big Tech in 3 areas'], ['AMZN', 'Feb-09-22', '11:16AM\\xa0\\xa0', 'Amazon officially a supermarket, say competition chiefs'], ['AMZN', 'Feb-09-22', '11:08AM\\xa0\\xa0', \"Globalization of supply chains is 'the big difference' driving inflation today, strategist says\"], ['AMZN', 'Feb-09-22', '10:46AM\\xa0\\xa0', \"Big Tech: 'It's hard to stay on top more than 10 years,' former Cisco CEO says\"], ['AMZN', 'Feb-09-22', '10:05AM\\xa0\\xa0', '5 Top-Ranked Tech ETFs to Buy at Bargain Price'], ['AMZN', 'Feb-09-22', '10:00AM\\xa0\\xa0', \"Amazon Is Raising the Price of Prime to $139, Here's Why\"], ['AMZN', 'Feb-09-22', '08:29AM\\xa0\\xa0', '3 Stocks That Can Outperform Bitcoin'], ['AMZN', 'Feb-09-22', '07:56AM\\xa0\\xa0', 'Amazon classified as grocery retailer in the UK'], ['AMZN', 'Feb-09-22', '07:54AM\\xa0\\xa0', 'Amazon must adhere to UK supplier rules after grocery turnover tops 1 billion pounds'], ['AMZN', 'Feb-09-22', '07:48AM\\xa0\\xa0', 'Amazon must adhere to UK supplier rules after grocery turnover tops 1 bln pounds'], ['AMZN', 'Feb-09-22', '07:20AM\\xa0\\xa0', 'Amazon Earnings Helped by Rivian Stake, but Is Rivian a Buy Now?'], ['AMZN', 'Feb-09-22', '07:00AM\\xa0\\xa0', 'How Facebook Could Take On TikTok With One Simple Move'], ['AMZN', 'Feb-09-22', '06:07AM\\xa0\\xa0', \"Amazon's Pursuit of Peloton Is a Sign of Trouble\"], ['AMZN', 'Feb-09-22', '03:56AM\\xa0\\xa0', 'European stock markets edge higher as global stocks rally'], ['AMZN', 'Feb-09-22', '01:30AM\\xa0\\xa0', '6 Key Takeaways From Recent Tech Earnings Reports and Calls'], ['AMZN', 'Feb-08-22', '07:35PM\\xa0\\xa0', 'Is Amazon Prime Really Worth $139 per Year?'], ['AMZN', 'Feb-08-22', '06:05PM\\xa0\\xa0', '10 Little-Known Perks of Your Amazon Prime Membership'], ['AMZN', 'Feb-08-22', '05:42PM\\xa0\\xa0', 'U.S. Trade Deficit Hit Record in 2021 as Americans Spent on Computers, Games'], ['AMZN', 'Feb-08-22', '05:40PM\\xa0\\xa0', 'Top Stock Reports for Microsoft, Amazon & Tesla'], ['AMZN', 'Feb-08-22', '05:15PM\\xa0\\xa0', \"Crowdfunding film projects can help 'drive diversity in entertainment,' Seed&Spark CEO says\"], ['AMZN', 'Feb-08-22', '04:48PM\\xa0\\xa0', 'Microsoft Considers Pursuing a Deal for Cybersecurity Firm Mandiant'], ['AMZN', 'Feb-08-22', '04:17PM\\xa0\\xa0', 'University of Maryland Global Campus takes lead at Crystal City space UMd. leased in 2019'], ['AMZN', 'Feb-08-22', '04:13PM\\xa0\\xa0', 'Pelotons Surprise Shake-Up Triggers Record-Setting Rally'], ['AMZN', 'Feb-08-22', '04:02PM\\xa0\\xa0', 'Amazon Expands In-Person Health Care Services To 20 Additional Cities'], ['AMZN', 'Feb-08-22', '03:39PM\\xa0\\xa0', 'Minority-focused ETF created with NAACP vision in mind'], ['AMZN', 'Feb-08-22', '02:47PM\\xa0\\xa0', 'Streaming: Netflix dominates 2022 Oscar nominations'], ['AMZN', 'Feb-08-22', '02:46PM\\xa0\\xa0', 'Why Affirm Stock Lost 36% in January'], ['AMZN', 'Feb-08-22', '02:40PM\\xa0\\xa0', 'Peloton still has one other big problem  its board of directors'], ['AMZN', 'Feb-08-22', '02:38PM\\xa0\\xa0', 'Nikko Asset Management Americas, Inc. Buys Roku Inc, Zoom Video Communications Inc, Twilio Inc, ...'], ['AMZN', 'Feb-08-22', '02:38PM\\xa0\\xa0', 'Sentinel Pension Advisors Inc Buys Invesco BulletShares 2024 Corporate Bond ETF, Focus ...'], ['AMZN', 'Feb-08-22', '02:38PM\\xa0\\xa0', 'Artemis Investment Management LLP Buys Amazon. ...'], ['AMZN', 'Feb-08-22', '02:38PM\\xa0\\xa0', 'Van Strum & Towne Inc. Buys Vanguard Short-Term Inflation-Protected Securities, iShares ...'], ['AMZN', 'Feb-08-22', '02:38PM\\xa0\\xa0', 'High Pointe Capital Management Llc Buys iShares Russell 1000 Growth ETF, FedEx Corp, Elanco ...'], ['AMZN', 'Feb-08-22', '02:38PM\\xa0\\xa0', 'Baker Tilly Wealth Management, Llc Buys JPMorgan Ultra-Short Income ETF, Vanguard S&P 500 ...'], ['AMZN', 'Feb-08-22', '12:53PM\\xa0\\xa0', 'Peloton is losing the CEO of its biggest acquisition ever'], ['AMZN', 'Feb-08-22', '12:27PM\\xa0\\xa0', \"Partake CEO details growth, Black venture capital fundraising, and the brand's social impact\"], ['AMZN', 'Feb-08-22', '12:26PM\\xa0\\xa0', \"Peloton's new CEO has one not so secret mission: analyst\"], ['AMZN', 'Feb-08-22', '12:03PM\\xa0\\xa0', 'How Amazon Sent Velodyne Stock Charging Higher on Tuesday'], ['AMZN', 'Feb-08-22', '11:42AM\\xa0\\xa0', 'Netflix receives 25 Oscar nominations, most in company history'], ['AMZN', 'Feb-08-22', '11:33AM\\xa0\\xa0', '10 Best Performing Hedge Funds of 2021'], ['AMZN', 'Feb-08-22', '11:29AM\\xa0\\xa0', 'Amazon Deal Has Shares of Lidar Maker Velodyne Soaring'], ['AMZN', 'Feb-08-22', '11:17AM\\xa0\\xa0', 'Peloton is begging for a takeover'], ['AMZN', 'Feb-08-22', '11:03AM\\xa0\\xa0', \"IRS backs away from facial recognition, Amazon boosts corporate base pay, Thiel to leave Meta's board\"], ['AMZN', 'Feb-08-22', '11:03AM\\xa0\\xa0', 'Velodyne Lidar stock surges after Amazon investment'], ['AMZN', 'Feb-08-22', '10:57AM\\xa0\\xa0', 'Whats next for Amazon? The company will be pulling a lot of money-making levers this year'], ['AMZN', 'Feb-08-22', '10:45AM\\xa0\\xa0', '2 Buffett Stocks to Buy and Hold Forever'], ['AMZN', 'Feb-08-22', '10:38AM\\xa0\\xa0', 'DORCHESTER WEALTH MANAGEMENT Co Buys Nuvei Corp, Newell Brands Inc, Rogers Communications Inc, ...'], ['AMZN', 'Feb-08-22', '10:28AM\\xa0\\xa0', 'Amazon to Bring Medical Services to 20 More Cities This Year'], ['AMZN', 'Feb-08-22', '10:19AM\\xa0\\xa0', 'Peloton Jumps on CEO Departure, Job Cuts, Barry McCarthy to Take Top Spot'], ['AMZN', 'Feb-08-22', '10:02AM\\xa0\\xa0', \"Velodyne Stock Continues To Soar On Amazon's Latest Self-Driving Move\"], ['AMZN', 'Feb-08-22', '09:47AM\\xa0\\xa0', \"Stocks: Several factors are 'settling markets right now', investment strategist Seema Shah explains\"], ['AMZN', 'Feb-08-22', '09:43AM\\xa0\\xa0', 'Amazon Care expands nationwide'], ['AMZN', 'Feb-08-22', '09:38AM\\xa0\\xa0', 'Strategic Vision Investment Ltd Buys Amazon. ...'], ['AMZN', 'Feb-08-22', '09:38AM\\xa0\\xa0', 'Cidel Asset Management Inc Buys Sony Group Corp, Stagwell Inc, Emerson Electric Co, Sells ...'], ['AMZN', 'Feb-08-22', '08:49AM\\xa0\\xa0', 'Nvidia Falls as Arm Deal Collapses, but This Nasdaq Stock Is Soaring Tuesday'], ['AMZN', 'Feb-08-22', '08:45AM\\xa0\\xa0', 'My Top Cryptocurrency to Buy and Hold Right Now'], ['AMZN', 'Feb-08-22', '08:38AM\\xa0\\xa0', \"3 Predictions for Peloton's Q2 Earnings Report\"], ['AMZN', 'Feb-08-22', '08:22AM\\xa0\\xa0', 'Amazon Raises Prime Membership Fee: Is Costco Next?'], ['AMZN', 'Feb-08-22', '08:05AM\\xa0\\xa0', '2 Unstoppable Growth Stocks Down 47% and 67% to Buy Right Now'], ['AMZN', 'Feb-08-22', '07:15AM\\xa0\\xa0', '3 Top E-Commerce Stocks to Buy in February'], ['AMZN', 'Feb-08-22', '06:45AM\\xa0\\xa0', '426 Million Reasons to Love PayPal Stock Right Now'], ['AMZN', 'Feb-08-22', '06:10AM\\xa0\\xa0', \"Who is Peloton's new CEO?\"], ['AMZN', 'Feb-08-22', '05:51AM\\xa0\\xa0', '3 High-Flying Stocks May Follow Alphabet and Enact a Stock Split'], ['AMZN', 'Feb-08-22', '05:02AM\\xa0\\xa0', 'Could Rivian Stock Help You Become a Millionaire?'], ['AMZN', 'Feb-08-22', '03:22AM\\xa0\\xa0', \"India's Maharashtra hopes to persuade Amazon, Uber, others to go electric faster\"], ['AMZN', 'Feb-08-22', '02:53AM\\xa0\\xa0', 'New Arm CEO Haas Steps Into Center of Chip Industry Turmoil'], ['AMZN', 'Feb-08-22', '12:08AM\\xa0\\xa0', 'As the talent battle rages, Amazon makes a big move to $350K'], ['GOOG', 'Feb-10-22', '01:17PM\\xa0\\xa0', 'Tech Storm Hits Smaller Stocks as Rate-Hike Concern Builds'], ['GOOG', 'Feb-10-22', '01:17PM\\xa0\\xa0', 'Market check: Stocks mixed after inflation print, Fed rate hike uncertainty'], ['GOOG', 'Feb-10-22', '01:12PM\\xa0\\xa0', 'What is the Metaverse and should small-business owners be worried about missing out?'], ['GOOG', 'Feb-10-22', '12:53PM\\xa0\\xa0', 'Google Fiber Workers to Vote Next Month on Unionization'], ['GOOG', 'Feb-10-22', '11:39AM\\xa0\\xa0', \"Disney CEO: 'We continue to see value in the moviegoing experience'\"], ['GOOG', 'Feb-10-22', '11:17AM\\xa0\\xa0', 'Market check: Stocks choppy as investors digest hot inflation'], ['GOOG', 'Feb-10-22', '10:27AM\\xa0\\xa0', 'Twilio Surges as Profit Outlook Removes Key Question Over Growth'], ['GOOG', 'Feb-10-22', '10:16AM\\xa0\\xa0', 'Palo Alto cybersecurity unicorn is born in $140M funding led by Alphabet unit'], ['GOOG', 'Feb-10-22', '10:00AM\\xa0\\xa0', 'Dow Jones Slashes Losses As Yields Spike On Hot Inflation Data; Disney, Twitter, Uber Report Earnings'], ['GOOG', 'Feb-10-22', '09:40AM\\xa0\\xa0', 'Google Analytics Risks French Ban Over U.S. Data Spy Fears'], ['GOOG', 'Feb-10-22', '09:00AM\\xa0\\xa0', 'YouTube Plans to Make Gaming Videos Immersive in Metaverse Push'], ['GOOG', 'Feb-10-22', '09:00AM\\xa0\\xa0', 'YouTube floats ideas of verifying NFTs, watching games in metaverse'], ['GOOG', 'Feb-10-22', '08:57AM\\xa0\\xa0', '3 Top Cloud Stocks to Buy in February'], ['GOOG', 'Feb-10-22', '08:47AM\\xa0\\xa0', 'UPDATE 2-Google faces fine after Russian watchdog says it broke antitrust law'], ['GOOG', 'Feb-10-22', '08:37AM\\xa0\\xa0', 'Skillz Stock: Bear vs. Bull'], ['GOOG', 'Feb-10-22', '08:08AM\\xa0\\xa0', 'French watchdog says Google Analytics poses data privacy risks'], ['GOOG', 'Feb-10-22', '07:58AM\\xa0\\xa0', '10 Best Cryptocurrencies to Invest In For Beginners in 2022 According to Reddit'], ['GOOG', 'Feb-10-22', '05:19AM\\xa0\\xa0', 'Google faces fine after Russian watchdog says it broke antitrust law'], ['GOOG', 'Feb-09-22', '04:56PM\\xa0\\xa0', \"Super Bowl: NFL 'games and player storylines' drive social media engagement, Twitter executive says\"], ['GOOG', 'Feb-09-22', '04:40PM\\xa0\\xa0', \"Even Meta and Alphabet Don't Make This Sector a Blockbuster\"], ['GOOG', 'Feb-09-22', '04:26PM\\xa0\\xa0', 'The No. 1 way cybercriminals use employees to attack office equipment with malware  and why workers fall for it'], ['GOOG', 'Feb-09-22', '03:34PM\\xa0\\xa0', 'Microsoft takes swipe at Apple and Google with new app store rules'], ['GOOG', 'Feb-09-22', '02:29PM\\xa0\\xa0', \"Fed 'at or approaching peak hawkishness, strategist says\"], ['GOOG', 'Feb-09-22', '02:26PM\\xa0\\xa0', 'Metas Stock Slide Puts Spotlight on Tech Antitrust Bill Criteria'], ['GOOG', 'Feb-09-22', '01:44PM\\xa0\\xa0', \"Meta Is Now Calling Out Google Over Apple's App Privacy Rules\"], ['GOOG', 'Feb-09-22', '01:40PM\\xa0\\xa0', 'Meta shares rise, travel stocks up, Chinese EV makers rally'], ['GOOG', 'Feb-09-22', '12:55PM\\xa0\\xa0', '10 Undervalued Stocks Hedge Funds Are Talking About'], ['GOOG', 'Feb-09-22', '11:33AM\\xa0\\xa0', \"Stock market theme in 2022 is about 'show me the money,' strategist says\"], ['GOOG', 'Feb-09-22', '11:25AM\\xa0\\xa0', 'Silicon Valleys Congressman wants to rein in Big Tech in 3 areas'], ['GOOG', 'Feb-09-22', '11:20AM\\xa0\\xa0', 'Trivago Looks to Take Share From Google If Regulators Step In'], ['GOOG', 'Feb-09-22', '10:46AM\\xa0\\xa0', \"Big Tech: 'It's hard to stay on top more than 10 years,' former Cisco CEO says\"], ['GOOG', 'Feb-09-22', '10:14AM\\xa0\\xa0', \"Lyft president: Ride-sharing industry 'has quite a bit of pricing power'\"], ['GOOG', 'Feb-09-22', '10:03AM\\xa0\\xa0', 'Apple To Enable Crypto Payments With Tap To Pay by the End of 2022'], ['GOOG', 'Feb-09-22', '09:51AM\\xa0\\xa0', 'Market check: Stocks rise in early trading, Treasury yields retreat'], ['GOOG', 'Feb-09-22', '09:32AM\\xa0\\xa0', 'Dow Jones Rallies As Treasury Yields Retreat; Chipotle, CVS, Lyft Are Key Earnings Movers'], ['GOOG', 'Feb-09-22', '09:26AM\\xa0\\xa0', '2 Top Growth Stocks to Buy Right Now and Hold for the Long Term'], ['GOOG', 'Feb-09-22', '07:06AM\\xa0\\xa0', 'This fund sold out of Facebooks parent and PayPal before their earnings disasters. Heres what it bought instead.'], ['GOOG', 'Feb-09-22', '07:00AM\\xa0\\xa0', 'How Facebook Could Take On TikTok With One Simple Move'], ['GOOG', 'Feb-09-22', '06:33AM\\xa0\\xa0', 'Why Is Everyone Talking About Netflix Stock?'], ['GOOG', 'Feb-09-22', '06:20AM\\xa0\\xa0', 'Should You Buy Alphabet Ahead of Its Stock Split?'], ['GOOG', 'Feb-09-22', '05:28AM\\xa0\\xa0', 'The stock split from Googles parent may spark a wave, Bank of America analysts say'], ['GOOG', 'Feb-09-22', '03:44AM\\xa0\\xa0', '10 Best Cryptocurrencies To Invest Your $1000'], ['GOOG', 'Feb-09-22', '02:00AM\\xa0\\xa0', 'This Buffett-Like Value Fund Wins by Being Patient'], ['GOOG', 'Feb-08-22', '04:48PM\\xa0\\xa0', 'Microsoft Considers Pursuing a Deal for Cybersecurity Firm Mandiant'], ['GOOG', 'Feb-08-22', '03:12PM\\xa0\\xa0', 'WhatsApp: The Best Meta Purchase Ever?'], ['GOOG', 'Feb-08-22', '02:40PM\\xa0\\xa0', 'Peloton still has one other big problem  its board of directors'], ['GOOG', 'Feb-08-22', '02:38PM\\xa0\\xa0', 'Nichols & Pratt Advisers Llp  Buys Global Payments Inc, Terminix Global Holdings Inc, Adobe ...'], ['GOOG', 'Feb-08-22', '02:38PM\\xa0\\xa0', 'Rainey & Randall Investment Management Inc. ...'], ['GOOG', 'Feb-08-22', '10:19AM\\xa0\\xa0', 'Peloton Jumps on CEO Departure, Job Cuts, Barry McCarthy to Take Top Spot'], ['GOOG', 'Feb-08-22', '09:47AM\\xa0\\xa0', 'New UK rules could force people to provide ID before using Reddit or Google in attempt to stop children viewing pornography, campaigners warn'], ['GOOG', 'Feb-08-22', '09:38AM\\xa0\\xa0', 'Constitution Capital LLC Buys UnitedHealth Group Inc, Technology Select Sector SPDR ETF, ...'], ['GOOG', 'Feb-08-22', '09:38AM\\xa0\\xa0', 'Main Street Financial Solutions, LLC Buys First Trust Municipal High Income ETF, Invesco NASDAQ ...'], ['GOOG', 'Feb-08-22', '09:38AM\\xa0\\xa0', 'American Investment Services, Inc. Buys Verizon Communications Inc, iShares Core U.S. ...'], ['GOOG', 'Feb-08-22', '09:36AM\\xa0\\xa0', 'Dow Jones Rallies; Drug Giant Pfizer Slides On Earnings'], ['GOOG', 'Feb-08-22', '08:00AM\\xa0\\xa0', 'Is Google Stock A Buy As Amazon, Facebook, Netflix Ride Roller-Coaster?'], ['GOOG', 'Feb-08-22', '07:35AM\\xa0\\xa0', 'Is Pinterest Stock a Buy?'], ['GOOG', 'Feb-08-22', '07:06AM\\xa0\\xa0', 'Dow Jones Futures Fall; 4 Top Stocks To Buy And Watch In Volatile Stock Market Rally'], ['GOOG', 'Feb-08-22', '06:55AM\\xa0\\xa0', 'Google Just Gave Its Nod of Approval to Blockchain and Crypto Technology'], ['GOOG', 'Feb-08-22', '06:25AM\\xa0\\xa0', 'Down 27% to 85%: 2 Buffett Stocks to Buy for 2022 and Beyond'], ['GOOG', 'Feb-08-22', '05:52AM\\xa0\\xa0', \"Is Facebook Repeating Alphabet's Biggest Mistake?\"], ['GOOG', 'Feb-08-22', '05:51AM\\xa0\\xa0', '3 High-Flying Stocks May Follow Alphabet and Enact a Stock Split'], ['GOOG', 'Feb-08-22', '03:55AM\\xa0\\xa0', 'BP lifts FTSE 100 as it cashes in on energy price hike'], ['GOOG', 'Feb-08-22', '02:53AM\\xa0\\xa0', 'New Arm CEO Haas Steps Into Center of Chip Industry Turmoil'], ['GOOG', 'Feb-07-22', '08:38PM\\xa0\\xa0', 'Vista Capital Partners, Inc. Buys Starbucks Corp, BTC iShares MSCI USA Momentum Factor ETF, ...'], ['GOOG', 'Feb-07-22', '07:46PM\\xa0\\xa0', 'Nvidia to Withdraw From Acquisition of SoftBanks Arm'], ['GOOG', 'Feb-07-22', '07:01PM\\xa0\\xa0', 'How Google is making inroads into the crypto ecosystem'], ['GOOG', 'Feb-07-22', '07:00PM\\xa0\\xa0', 'KKR Leads $180 Million Round for Ikea-Backed Unicorn Livspace'], ['GOOG', 'Feb-07-22', '06:38PM\\xa0\\xa0', 'Laird Norton Trust Company, Llc Buys iShares National Muni Bond ETF, iShares Core S&P 500 ...'], ['GOOG', 'Feb-07-22', '06:34PM\\xa0\\xa0', 'Why Did Snowflake Stock Drop 19% in January?'], ['GOOG', 'Feb-07-22', '05:38PM\\xa0\\xa0', 'REDW Wealth LLC Buys FlexShares High Yield Value Scored Bond Index ETF, Vanguard Short-Term ...'], ['GOOG', 'Feb-07-22', '05:38PM\\xa0\\xa0', 'Hamilton Capital, LLC Buys Vanguard S&P 500 Value ETF, iShares Core S&P Mid-Cap ETF, ...'], ['GOOG', 'Feb-07-22', '05:38PM\\xa0\\xa0', 'Maytus Capital Management, LLC Buys ServiceNow Inc, Datadog Inc, Elastic NV, Sells Salesforce. ...'], ['GOOG', 'Feb-07-22', '04:48PM\\xa0\\xa0', \"Rep. Ro Khanna (D-CA) talks tech oversight, digital speech, and Biden's Build Back Better plan\"], ['GOOG', 'Feb-07-22', '04:33PM\\xa0\\xa0', \"Here's What Investors Need to Know About SEMrush Stock\"], ['GOOG', 'Feb-07-22', '04:27PM\\xa0\\xa0', 'Disney will continue to experiment with theatrical releases amid streaming push: Analyst'], ['GOOG', 'Feb-07-22', '04:24PM\\xa0\\xa0', 'Investors Should Consider These Risks Before Buying SEMrush Stock'], ['GOOG', 'Feb-07-22', '03:41PM\\xa0\\xa0', 'How to hide your home on Google Maps and Apple Maps'], ['GOOG', 'Feb-07-22', '02:58PM\\xa0\\xa0', 'GOP Congresswoman Nancy Mace talks 5G and airplanes, autonomous vehicles, weed decriminalization'], ['GOOG', 'Feb-07-22', '02:56PM\\xa0\\xa0', \"Meta has 'dark days' ahead: analyst\"], ['GOOG', 'Feb-07-22', '02:22PM\\xa0\\xa0', \"The Funded: San Jose lidar company Cepton's SPAC merger goes to a vote this week\"], ['GOOG', 'Feb-07-22', '01:38PM\\xa0\\xa0', 'Corundum Group, Inc. Buys Amazon.com Inc, iShares Core S&P 500 ETF, The Home Depot Inc, ...'], ['GOOG', 'Feb-07-22', '01:38PM\\xa0\\xa0', 'Winslow Asset Management Inc Buys Consolidated Edison Inc, Alphabet Inc, Sells AT&T Inc, ...'], ['GOOG', 'Feb-07-22', '01:38PM\\xa0\\xa0', 'Waverton Investment Management Ltd Buys Alphabet Inc, Qualcomm Inc, Thermo Fisher Scientific ...'], ['GOOG', 'Feb-07-22', '01:26PM\\xa0\\xa0', \"Market strategist: 'Washed-out' sentiment will give way to higher equities\"], ['GOOG', 'Feb-07-22', '12:51PM\\xa0\\xa0', 'The Zacks Analyst Blog Highlights: Alphabet, T-Mobile US, Advanced Micro Devices, Mondelez International and Chubb'], ['GOOG', 'Feb-07-22', '12:25PM\\xa0\\xa0', \"The stock market 'is squeezing out some of the excesses at this point,' portfolio manager says\"], ['GOOG', 'Feb-07-22', '12:13PM\\xa0\\xa0', 'Tech support: How to hide your home on Google and Apple Maps'], ['GOOG', 'Feb-07-22', '10:35AM\\xa0\\xa0', 'See which global business leader most closely shares your views on crypto and Big Tech'], ['GOOG', 'Feb-07-22', '10:05AM\\xa0\\xa0', 'Is Snowflake Stock A Buy Amid Software Sector Volatility?'], ['GOOG', 'Feb-07-22', '10:00AM\\xa0\\xa0', 'One Way to Stand Out in a Crowd of Startup Deals: Make Stuff Up'], ['GOOG', 'Feb-07-22', '09:54AM\\xa0\\xa0', 'Dow Jones Rises; Peloton Spikes On Takeover Reports'], ['GOOG', 'Feb-07-22', '09:38AM\\xa0\\xa0', \"St. Louis Trust Co Buys O'Reilly Automotive Inc, Cerner Corp, Apple Inc, Sells Abbott ...\"], ['GOOG', 'Feb-07-22', '09:38AM\\xa0\\xa0', 'Montrusco Bolton Investments Inc. Buys Workday Inc, Envista Holdings Corp, Lamb Weston Holdings ...'], ['GOOG', 'Feb-07-22', '09:38AM\\xa0\\xa0', 'Freemont Management S.A. Buys Accenture PLC, Splunk Inc, Stellantis NV, Sells Alphabet Inc, ...'], ['GOOG', 'Feb-07-22', '08:49AM\\xa0\\xa0', 'Here Are the Tech Stocks to Buy After a Crazy Week of Earnings'], ['GOOG', 'Feb-07-22', '08:45AM\\xa0\\xa0', 'Will the Google Stock Split Impact My Tax Returns?'], ['GOOG', 'Feb-07-22', '08:28AM\\xa0\\xa0', 'Meta Stock Looks Cheap. Thats No Longer a Good Reason to Buy.'], ['GOOG', 'Feb-07-22', '08:14AM\\xa0\\xa0', 'Amazon, Alphabet, Apple, Facebook and Microsoft are part of Zacks Earnings Preview'], ['GOOG', 'Feb-07-22', '08:11AM\\xa0\\xa0', 'Dow Jones Futures Rise With Market Rally At Key Point; Peloton Soars On Buyout Buzz'], ['GOOG', 'Feb-07-22', '07:15AM\\xa0\\xa0', 'Google co-founder Larry Page sold more than $80 million worth of stock'], ['FB', 'Feb-10-22', '01:17PM\\xa0\\xa0', 'Market check: Stocks mixed after inflation print, Fed rate hike uncertainty'], ['FB', 'Feb-10-22', '01:12PM\\xa0\\xa0', 'What is the Metaverse and should small-business owners be worried about missing out?'], ['FB', 'Feb-10-22', '11:50AM\\xa0\\xa0', 'Katie Couric: Misinformation superspreaders should be held liable'], ['FB', 'Feb-10-22', '11:39AM\\xa0\\xa0', \"Disney CEO: 'We continue to see value in the moviegoing experience'\"], ['FB', 'Feb-10-22', '11:17AM\\xa0\\xa0', 'Market check: Stocks choppy as investors digest hot inflation'], ['FB', 'Feb-10-22', '10:01AM\\xa0\\xa0', 'Twitters New CEO Aims to Move Faster, Not Change Course'], ['FB', 'Feb-10-22', '10:00AM\\xa0\\xa0', 'Is Roblox Stock A Buy Right Now After Hitting All-Time Lows?'], ['FB', 'Feb-10-22', '09:44AM\\xa0\\xa0', \"You Own More Of Meta's $300 Billion Faceplant Than You'd Like\"], ['FB', 'Feb-10-22', '09:40AM\\xa0\\xa0', 'Google Analytics Risks French Ban Over U.S. Data Spy Fears'], ['FB', 'Feb-10-22', '09:00AM\\xa0\\xa0', 'YouTube Plans to Make Gaming Videos Immersive in Metaverse Push'], ['FB', 'Feb-10-22', '08:29AM\\xa0\\xa0', '1 Metaverse Stock That Just Crushed Its Big Tech Rival'], ['FB', 'Feb-10-22', '08:05AM\\xa0\\xa0', 'Could Meta Platforms Stock Double Over the Next 12 Months?'], ['FB', 'Feb-10-22', '08:00AM\\xa0\\xa0', 'You Probably Own More Plunging Stocks Than You Think'], ['FB', 'Feb-10-22', '07:55AM\\xa0\\xa0', 'Facebook-parent Metas stock bounces after chart flashed most oversold reading in a decade'], ['FB', 'Feb-10-22', '07:31AM\\xa0\\xa0', 'Twitters Daily User Base Grows 13% To 217M As Solid Q4 Results Boost Shares'], ['FB', 'Feb-10-22', '07:15AM\\xa0\\xa0', 'Better Buy: Meta Platforms vs. PayPal Holdings'], ['FB', 'Feb-10-22', '07:00AM\\xa0\\xa0', \"Is Meta Stock A Buy? The Bull And Bear Case After Facebook Parent's Crash\"], ['FB', 'Feb-10-22', '05:30AM\\xa0\\xa0', 'Why Some See Web 3.0 as the Future of the Internet'], ['FB', 'Feb-10-22', '03:49AM\\xa0\\xa0', \"European stocks mixed as Brussels cuts Eurozone's growth forecast\"], ['FB', 'Feb-09-22', '04:56PM\\xa0\\xa0', \"Super Bowl: NFL 'games and player storylines' drive social media engagement, Twitter executive says\"], ['FB', 'Feb-09-22', '04:40PM\\xa0\\xa0', \"Even Meta and Alphabet Don't Make This Sector a Blockbuster\"], ['FB', 'Feb-09-22', '02:52PM\\xa0\\xa0', 'Biggest Single-Day Market Cap Drops in U.S. Stocks'], ['FB', 'Feb-09-22', '02:45PM\\xa0\\xa0', 'Facebook Stock Is Rising. Todays the Day It Might End Its Slide.'], ['FB', 'Feb-09-22', '02:29PM\\xa0\\xa0', \"Fed 'at or approaching peak hawkishness, strategist says\"], ['FB', 'Feb-09-22', '02:26PM\\xa0\\xa0', 'Metas Stock Slide Puts Spotlight on Tech Antitrust Bill Criteria'], ['FB', 'Feb-09-22', '01:44PM\\xa0\\xa0', \"Meta Is Now Calling Out Google Over Apple's App Privacy Rules\"], ['FB', 'Feb-09-22', '01:40PM\\xa0\\xa0', 'Meta shares rise, travel stocks up, Chinese EV makers rally'], ['FB', 'Feb-09-22', '01:37PM\\xa0\\xa0', 'Facebook parent Metas bet on the metaverse may never pay off'], ['FB', 'Feb-09-22', '01:25PM\\xa0\\xa0', 'U.S. Stock Surge Continues as Chipotle, Tech Drive Gain'], ['FB', 'Feb-09-22', '11:57AM\\xa0\\xa0', 'Why Meta Platforms Stock Jumped Higher on Wednesday'], ['FB', 'Feb-09-22', '11:33AM\\xa0\\xa0', \"Stock market theme in 2022 is about 'show me the money,' strategist says\"], ['FB', 'Feb-09-22', '11:25AM\\xa0\\xa0', 'Silicon Valleys Congressman wants to rein in Big Tech in 3 areas'], ['FB', 'Feb-09-22', '10:46AM\\xa0\\xa0', \"Big Tech: 'It's hard to stay on top more than 10 years,' former Cisco CEO says\"], ['FB', 'Feb-09-22', '09:51AM\\xa0\\xa0', 'Market check: Stocks rise in early trading, Treasury yields retreat'], ['FB', 'Feb-09-22', '08:57AM\\xa0\\xa0', 'Top 3 Mutual Funds Holders of Meta (FB), formerly Facebook'], ['FB', 'Feb-09-22', '08:30AM\\xa0\\xa0', 'The One Simple Reason Pinterest Won and Facebook Lost'], ['FB', 'Feb-09-22', '07:25AM\\xa0\\xa0', 'Facebook Parent Meta Falls Behind Nvidia'], ['FB', 'Feb-09-22', '07:06AM\\xa0\\xa0', 'This fund sold out of Facebooks parent and PayPal before their earnings disasters. Heres what it bought instead.'], ['FB', 'Feb-09-22', '07:00AM\\xa0\\xa0', 'How Facebook Could Take On TikTok With One Simple Move'], ['FB', 'Feb-09-22', '07:00AM\\xa0\\xa0', '3 Reasons to Be Excited About the Metaverse -- and 2 Reasons Not to Be'], ['FB', 'Feb-09-22', '06:04AM\\xa0\\xa0', \"Bracing for a stock market that's going 'a whole lot of nowhere'\"], ['FB', 'Feb-09-22', '06:04AM\\xa0\\xa0', 'Facebook, Instagram are hot spots for fake Louis Vuitton, Gucci and Chanel'], ['FB', 'Feb-08-22', '07:57PM\\xa0\\xa0', 'Meta, Chime file lawsuit against alleged phishing scam on Facebook, Instagram'], ['FB', 'Feb-08-22', '04:35PM\\xa0\\xa0', 'Will the Metaverse Be Worth the Hype?'], ['FB', 'Feb-08-22', '04:14PM\\xa0\\xa0', 'US STOCKS-Wall Street ends higher; bank stocks rise with Treasury yields'], ['FB', 'Feb-08-22', '04:05PM\\xa0\\xa0', 'Why Is Everyone Talking About the Metaverse?'], ['FB', 'Feb-08-22', '04:00PM\\xa0\\xa0', 'US STOCKS-Wall Street ends higher; bank stocks rise with Treasury yields'], ['FB', 'Feb-08-22', '03:56PM\\xa0\\xa0', \"Meta Platforms' Stock Is Falling Again Today -- Here's Why\"], ['FB', 'Feb-08-22', '03:39PM\\xa0\\xa0', 'Minority-focused ETF created with NAACP vision in mind'], ['FB', 'Feb-08-22', '03:12PM\\xa0\\xa0', 'WhatsApp: The Best Meta Purchase Ever?'], ['FB', 'Feb-08-22', '02:38PM\\xa0\\xa0', 'Skylands Capital, LLC Buys Grand Canyon Education Inc, Owens-Corning Inc, T-Mobile US Inc, ...'], ['FB', 'Feb-08-22', '02:38PM\\xa0\\xa0', 'Manitou Investment Management Ltd. Buys Roper Technologies Inc, Brookfield Asset Management ...'], ['FB', 'Feb-08-22', '02:19PM\\xa0\\xa0', 'Morgan Stanley hits record as financial stocks surge, Meta shares fall, ARKK stocks slammed'], ['FB', 'Feb-08-22', '02:11PM\\xa0\\xa0', 'US STOCKS-Wall Street rallies with Big Tech; banks up with Treasury yields'], ['FB', 'Feb-08-22', '01:38PM\\xa0\\xa0', 'Facebook may be flagging but Metas VR platform thrives'], ['FB', 'Feb-08-22', '12:57PM\\xa0\\xa0', 'US STOCKS-Wall Street climbs as Apple, bank stocks jump'], ['FB', 'Feb-08-22', '11:36AM\\xa0\\xa0', 'As Meta Slides, Are Value Investors Holding the Bag?'], ['FB', 'Feb-08-22', '11:30AM\\xa0\\xa0', 'GLOBAL MARKETS-Wall Street turns higher after groggy open, euro stalled by Lagarde'], ['FB', 'Feb-08-22', '11:03AM\\xa0\\xa0', \"IRS backs away from facial recognition, Amazon boosts corporate base pay, Thiel to leave Meta's board\"], ['FB', 'Feb-08-22', '11:00AM\\xa0\\xa0', \"Is Meta's Pain Digital Turbine's Gain? APPS Deep-Dive Stock Analysis\"], ['FB', 'Feb-08-22', '10:48AM\\xa0\\xa0', 'US STOCKS-S&P 500, Nasdaq slip as Pfizer, megacap stocks drag'], ['FB', 'Feb-08-22', '10:38AM\\xa0\\xa0', 'ICICI Prudential Asset Management Co Ltd Buys Unilever PLC, Cognizant Technology Solutions ...'], ['FB', 'Feb-08-22', '10:00AM\\xa0\\xa0', 'Why Snap Is Bucking the Trend in Social Media'], ['FB', 'Feb-08-22', '09:48AM\\xa0\\xa0', 'Metas Stalled Growth Separates It From Megacap Pack'], ['FB', 'Feb-08-22', '09:38AM\\xa0\\xa0', 'OneAscent Wealth Management LLC Buys Apple Inc, Taiwan Semiconductor Manufacturing Co, Ford ...'], ['FB', 'Feb-08-22', '09:38AM\\xa0\\xa0', 'Equity Investment Corp Buys iShares Russell 1000 Value ETF, Coterra Energy Inc, Global Payments ...'], ['FB', 'Feb-08-22', '08:51AM\\xa0\\xa0', 'US STOCKS-Wall St set for muted open on mixed earnings, Meta slides again'], ['FB', 'Feb-08-22', '08:21AM\\xa0\\xa0', 'Facebook should tighten doxxing rules on home addresses, says its oversight board'], ['FB', 'Feb-08-22', '08:00AM\\xa0\\xa0', 'Facebook should tighten doxxing rules on home addresses, says its oversight board'], ['FB', 'Feb-08-22', '07:39AM\\xa0\\xa0', '3 Reasons to Buy Pinterest in February'], ['FB', 'Feb-08-22', '07:34AM\\xa0\\xa0', 'S&P 500, Nasdaq down after mixed results; Meta weighs'], ['FB', 'Feb-08-22', '07:27AM\\xa0\\xa0', 'US STOCKS-Futures slip as earnings disappoint; Meta Platforms weak again'], ['FB', 'Feb-08-22', '07:17AM\\xa0\\xa0', '2 Growth Stocks Near Their 52-Week Lows to Buy Right Now'], ['FB', 'Feb-08-22', '06:17AM\\xa0\\xa0', '1 Social Media Stock With 10X Potential'], ['FB', 'Feb-08-22', '06:06AM\\xa0\\xa0', 'Religious leaders call on Zuckerberg to scrap Instagram Kids plans'], ['FB', 'Feb-08-22', '06:05AM\\xa0\\xa0', 'Is Snap Stock a Buy After Its Blowout Earnings Report?'], ['FB', 'Feb-08-22', '06:00AM\\xa0\\xa0', 'Religious leaders call on Zuckerberg to scrap Instagram Kids plans'], ['FB', 'Feb-08-22', '05:52AM\\xa0\\xa0', \"Is Facebook Repeating Alphabet's Biggest Mistake?\"], ['FB', 'Feb-08-22', '03:58AM\\xa0\\xa0', \"EU's Vestager says analysing metaverse ahead of possible regulatory action\"], ['FB', 'Feb-08-22', '03:55AM\\xa0\\xa0', 'BP lifts FTSE 100 as it cashes in on energy price hike'], ['FB', 'Feb-08-22', '03:52AM\\xa0\\xa0', \"EU's Vestager says analysing metaverse ahead of possible regulatory action\"], ['FB', 'Feb-08-22', '12:41AM\\xa0\\xa0', 'Meta could shut down Facebook and Instagram in Europe'], ['FB', 'Feb-07-22', '08:03PM\\xa0\\xa0', 'How Much Competition Is There in the Metaverse?'], ['FB', 'Feb-07-22', '07:43PM\\xa0\\xa0', 'Why Meta Platforms Stock Dropped Today'], ['FB', 'Feb-07-22', '07:23PM\\xa0\\xa0', \"Meta says it removed scammers' Canada convoy Facebook groups\"], ['FB', 'Feb-07-22', '07:07PM\\xa0\\xa0', 'UPDATE 2-Early Facebook investor Peter Thiel to step down from Meta board'], ['FB', 'Feb-07-22', '07:05PM\\xa0\\xa0', 'Meta exec pitches metaverse business to advertisers'], ['FB', 'Feb-07-22', '07:01PM\\xa0\\xa0', 'How Google is making inroads into the crypto ecosystem'], ['FB', 'Feb-07-22', '06:56PM\\xa0\\xa0', 'Meta exec pitches metaverse business to advertisers'], ['FB', 'Feb-07-22', '06:38PM\\xa0\\xa0', 'Crawford Investment Counsel Inc Buys Healthcare Services Group Inc, Wells Fargo, TE ...'], ['FB', 'Feb-07-22', '06:22PM\\xa0\\xa0', \"Peter Thiel is exiting Meta's board to focus on Trump's mid-term election candidates\"], ['FB', 'Feb-07-22', '06:11PM\\xa0\\xa0', 'Meta Warns That Europe Could Lose Facebook,\\xa0Instagram'], ['FB', 'Feb-07-22', '05:56PM\\xa0\\xa0', 'Billionaire Investor Peter Thiel Will Vacate Role As Facebook Director'], ['FB', 'Feb-07-22', '05:38PM\\xa0\\xa0', 'Maytus Capital Management, LLC Buys ServiceNow Inc, Datadog Inc, Elastic NV, Sells Salesforce. ...'], ['FB', 'Feb-07-22', '05:31PM\\xa0\\xa0', 'Peter Thiel to Step Down From Meta Platforms Board of Directors'], ['FB', 'Feb-07-22', '05:22PM\\xa0\\xa0', 'GLOBAL MARKETS-Meta weighs on U.S. shares, European stocks rise after rout'], ['FB', 'Feb-07-22', '05:00PM\\xa0\\xa0', 'Peter Thiel to step down from Meta Platforms board'], ['FB', 'Feb-07-22', '04:58PM\\xa0\\xa0', 'Billionaire Peter Thiel Is Exiting Facebook Parents Board, Reportedly to Focus on Electing Pro-Trump Candidates'], ['FB', 'Feb-07-22', '04:54PM\\xa0\\xa0', 'Peter Thiel to step down from Meta Platforms board'], ['FB', 'Feb-07-22', '04:48PM\\xa0\\xa0', \"Rep. Ro Khanna (D-CA) talks tech oversight, digital speech, and Biden's Build Back Better plan\"]]\n"
          ]
        }
      ]
    },
    {
      "cell_type": "code",
      "source": [
        "df = pd.DataFrame(parsed_data, columns = ['Ticker', 'Date', \"Time\", \"Title\"])\n",
        "\n",
        "vader = SentimentIntensityAnalyzer()\n",
        "df['compound'] = df['Title'].apply(lambda title: vader.polarity_scores(title)['compound'])\n",
        "df"
      ],
      "metadata": {
        "colab": {
          "base_uri": "https://localhost:8080/",
          "height": 423
        },
        "id": "_StFPWdhDMLP",
        "outputId": "f9417e89-cc3f-433f-89b8-e32f988b9307"
      },
      "execution_count": 52,
      "outputs": [
        {
          "output_type": "execute_result",
          "data": {
            "text/html": [
              "\n",
              "  <div id=\"df-f65eeade-6714-4d18-9969-5639e4912c8e\">\n",
              "    <div class=\"colab-df-container\">\n",
              "      <div>\n",
              "<style scoped>\n",
              "    .dataframe tbody tr th:only-of-type {\n",
              "        vertical-align: middle;\n",
              "    }\n",
              "\n",
              "    .dataframe tbody tr th {\n",
              "        vertical-align: top;\n",
              "    }\n",
              "\n",
              "    .dataframe thead th {\n",
              "        text-align: right;\n",
              "    }\n",
              "</style>\n",
              "<table border=\"1\" class=\"dataframe\">\n",
              "  <thead>\n",
              "    <tr style=\"text-align: right;\">\n",
              "      <th></th>\n",
              "      <th>Ticker</th>\n",
              "      <th>Date</th>\n",
              "      <th>Time</th>\n",
              "      <th>Title</th>\n",
              "      <th>compound</th>\n",
              "    </tr>\n",
              "  </thead>\n",
              "  <tbody>\n",
              "    <tr>\n",
              "      <th>0</th>\n",
              "      <td>AMZN</td>\n",
              "      <td>Feb-10-22</td>\n",
              "      <td>01:17PM</td>\n",
              "      <td>Market check: Stocks mixed after inflation pri...</td>\n",
              "      <td>-0.3400</td>\n",
              "    </tr>\n",
              "    <tr>\n",
              "      <th>1</th>\n",
              "      <td>AMZN</td>\n",
              "      <td>Feb-10-22</td>\n",
              "      <td>01:05PM</td>\n",
              "      <td>Why IT Will Drive the Market in 2022  for Bett...</td>\n",
              "      <td>-0.0516</td>\n",
              "    </tr>\n",
              "    <tr>\n",
              "      <th>2</th>\n",
              "      <td>AMZN</td>\n",
              "      <td>Feb-10-22</td>\n",
              "      <td>11:45AM</td>\n",
              "      <td>A Pairing of Peloton and Amazon Makes a Lot of...</td>\n",
              "      <td>0.1779</td>\n",
              "    </tr>\n",
              "    <tr>\n",
              "      <th>3</th>\n",
              "      <td>AMZN</td>\n",
              "      <td>Feb-10-22</td>\n",
              "      <td>11:39AM</td>\n",
              "      <td>Disney CEO: 'We continue to see value in the m...</td>\n",
              "      <td>0.3400</td>\n",
              "    </tr>\n",
              "    <tr>\n",
              "      <th>4</th>\n",
              "      <td>AMZN</td>\n",
              "      <td>Feb-10-22</td>\n",
              "      <td>11:28AM</td>\n",
              "      <td>Why Rivian Stock Sank and Then Jumped Today</td>\n",
              "      <td>0.0000</td>\n",
              "    </tr>\n",
              "    <tr>\n",
              "      <th>...</th>\n",
              "      <td>...</td>\n",
              "      <td>...</td>\n",
              "      <td>...</td>\n",
              "      <td>...</td>\n",
              "      <td>...</td>\n",
              "    </tr>\n",
              "    <tr>\n",
              "      <th>295</th>\n",
              "      <td>FB</td>\n",
              "      <td>Feb-07-22</td>\n",
              "      <td>05:22PM</td>\n",
              "      <td>GLOBAL MARKETS-Meta weighs on U.S. shares, Eur...</td>\n",
              "      <td>0.2960</td>\n",
              "    </tr>\n",
              "    <tr>\n",
              "      <th>296</th>\n",
              "      <td>FB</td>\n",
              "      <td>Feb-07-22</td>\n",
              "      <td>05:00PM</td>\n",
              "      <td>Peter Thiel to step down from Meta Platforms b...</td>\n",
              "      <td>0.0000</td>\n",
              "    </tr>\n",
              "    <tr>\n",
              "      <th>297</th>\n",
              "      <td>FB</td>\n",
              "      <td>Feb-07-22</td>\n",
              "      <td>04:58PM</td>\n",
              "      <td>Billionaire Peter Thiel Is Exiting Facebook Pa...</td>\n",
              "      <td>0.0000</td>\n",
              "    </tr>\n",
              "    <tr>\n",
              "      <th>298</th>\n",
              "      <td>FB</td>\n",
              "      <td>Feb-07-22</td>\n",
              "      <td>04:54PM</td>\n",
              "      <td>Peter Thiel to step down from Meta Platforms b...</td>\n",
              "      <td>0.0000</td>\n",
              "    </tr>\n",
              "    <tr>\n",
              "      <th>299</th>\n",
              "      <td>FB</td>\n",
              "      <td>Feb-07-22</td>\n",
              "      <td>04:48PM</td>\n",
              "      <td>Rep. Ro Khanna (D-CA) talks tech oversight, di...</td>\n",
              "      <td>0.4404</td>\n",
              "    </tr>\n",
              "  </tbody>\n",
              "</table>\n",
              "<p>300 rows × 5 columns</p>\n",
              "</div>\n",
              "      <button class=\"colab-df-convert\" onclick=\"convertToInteractive('df-f65eeade-6714-4d18-9969-5639e4912c8e')\"\n",
              "              title=\"Convert this dataframe to an interactive table.\"\n",
              "              style=\"display:none;\">\n",
              "        \n",
              "  <svg xmlns=\"http://www.w3.org/2000/svg\" height=\"24px\"viewBox=\"0 0 24 24\"\n",
              "       width=\"24px\">\n",
              "    <path d=\"M0 0h24v24H0V0z\" fill=\"none\"/>\n",
              "    <path d=\"M18.56 5.44l.94 2.06.94-2.06 2.06-.94-2.06-.94-.94-2.06-.94 2.06-2.06.94zm-11 1L8.5 8.5l.94-2.06 2.06-.94-2.06-.94L8.5 2.5l-.94 2.06-2.06.94zm10 10l.94 2.06.94-2.06 2.06-.94-2.06-.94-.94-2.06-.94 2.06-2.06.94z\"/><path d=\"M17.41 7.96l-1.37-1.37c-.4-.4-.92-.59-1.43-.59-.52 0-1.04.2-1.43.59L10.3 9.45l-7.72 7.72c-.78.78-.78 2.05 0 2.83L4 21.41c.39.39.9.59 1.41.59.51 0 1.02-.2 1.41-.59l7.78-7.78 2.81-2.81c.8-.78.8-2.07 0-2.86zM5.41 20L4 18.59l7.72-7.72 1.47 1.35L5.41 20z\"/>\n",
              "  </svg>\n",
              "      </button>\n",
              "      \n",
              "  <style>\n",
              "    .colab-df-container {\n",
              "      display:flex;\n",
              "      flex-wrap:wrap;\n",
              "      gap: 12px;\n",
              "    }\n",
              "\n",
              "    .colab-df-convert {\n",
              "      background-color: #E8F0FE;\n",
              "      border: none;\n",
              "      border-radius: 50%;\n",
              "      cursor: pointer;\n",
              "      display: none;\n",
              "      fill: #1967D2;\n",
              "      height: 32px;\n",
              "      padding: 0 0 0 0;\n",
              "      width: 32px;\n",
              "    }\n",
              "\n",
              "    .colab-df-convert:hover {\n",
              "      background-color: #E2EBFA;\n",
              "      box-shadow: 0px 1px 2px rgba(60, 64, 67, 0.3), 0px 1px 3px 1px rgba(60, 64, 67, 0.15);\n",
              "      fill: #174EA6;\n",
              "    }\n",
              "\n",
              "    [theme=dark] .colab-df-convert {\n",
              "      background-color: #3B4455;\n",
              "      fill: #D2E3FC;\n",
              "    }\n",
              "\n",
              "    [theme=dark] .colab-df-convert:hover {\n",
              "      background-color: #434B5C;\n",
              "      box-shadow: 0px 1px 3px 1px rgba(0, 0, 0, 0.15);\n",
              "      filter: drop-shadow(0px 1px 2px rgba(0, 0, 0, 0.3));\n",
              "      fill: #FFFFFF;\n",
              "    }\n",
              "  </style>\n",
              "\n",
              "      <script>\n",
              "        const buttonEl =\n",
              "          document.querySelector('#df-f65eeade-6714-4d18-9969-5639e4912c8e button.colab-df-convert');\n",
              "        buttonEl.style.display =\n",
              "          google.colab.kernel.accessAllowed ? 'block' : 'none';\n",
              "\n",
              "        async function convertToInteractive(key) {\n",
              "          const element = document.querySelector('#df-f65eeade-6714-4d18-9969-5639e4912c8e');\n",
              "          const dataTable =\n",
              "            await google.colab.kernel.invokeFunction('convertToInteractive',\n",
              "                                                     [key], {});\n",
              "          if (!dataTable) return;\n",
              "\n",
              "          const docLinkHtml = 'Like what you see? Visit the ' +\n",
              "            '<a target=\"_blank\" href=https://colab.research.google.com/notebooks/data_table.ipynb>data table notebook</a>'\n",
              "            + ' to learn more about interactive tables.';\n",
              "          element.innerHTML = '';\n",
              "          dataTable['output_type'] = 'display_data';\n",
              "          await google.colab.output.renderOutput(dataTable, element);\n",
              "          const docLink = document.createElement('div');\n",
              "          docLink.innerHTML = docLinkHtml;\n",
              "          element.appendChild(docLink);\n",
              "        }\n",
              "      </script>\n",
              "    </div>\n",
              "  </div>\n",
              "  "
            ],
            "text/plain": [
              "    Ticker  ... compound\n",
              "0     AMZN  ...  -0.3400\n",
              "1     AMZN  ...  -0.0516\n",
              "2     AMZN  ...   0.1779\n",
              "3     AMZN  ...   0.3400\n",
              "4     AMZN  ...   0.0000\n",
              "..     ...  ...      ...\n",
              "295     FB  ...   0.2960\n",
              "296     FB  ...   0.0000\n",
              "297     FB  ...   0.0000\n",
              "298     FB  ...   0.0000\n",
              "299     FB  ...   0.4404\n",
              "\n",
              "[300 rows x 5 columns]"
            ]
          },
          "metadata": {},
          "execution_count": 52
        }
      ]
    },
    {
      "cell_type": "code",
      "source": [
        "df['Date'] = pd.to_datetime(df.Date).dt.date"
      ],
      "metadata": {
        "id": "e-0CEOsBGWxD"
      },
      "execution_count": 53,
      "outputs": []
    },
    {
      "cell_type": "code",
      "source": [
        "plt.figure(figsize=(10,8))\n",
        "\n",
        "mean_df = df.groupby(['Ticker', 'Date']).mean()\n",
        "mean_df = mean_df.unstack()\n",
        "mean_df = mean_df.xs('compound', axis = 'columns').transpose()\n",
        "mean_df.plot(kind = 'bar')\n",
        "plt.show()"
      ],
      "metadata": {
        "colab": {
          "base_uri": "https://localhost:8080/",
          "height": 345
        },
        "id": "j-YPIXYEHZx2",
        "outputId": "d667e619-2df0-4e58-e281-809e60c22c45"
      },
      "execution_count": 55,
      "outputs": [
        {
          "output_type": "display_data",
          "data": {
            "text/plain": [
              "<Figure size 720x576 with 0 Axes>"
            ]
          },
          "metadata": {}
        },
        {
          "output_type": "display_data",
          "data": {
            "image/png": "[encoded data removed]",
            "text/plain": [
              "<Figure size 432x288 with 1 Axes>"
            ]
          },
          "metadata": {
            "needs_background": "light"
          }
        }
      ]
    },
    {
      "cell_type": "code",
      "source": [
        ""
      ],
      "metadata": {
        "id": "2zVlDFWBE_us"
      },
      "execution_count": 54,
      "outputs": []
    }
  ]
}