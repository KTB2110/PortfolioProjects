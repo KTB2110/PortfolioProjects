{
  "nbformat": 4,
  "nbformat_minor": 0,
  "metadata": {
    "colab": {
      "name": "SentimentAnalysis.ipynb",
      "provenance": [],
      "collapsed_sections": [],
      "authorship_tag": "ABX9TyMo5Wbg3GUMiPdg9NGw2sI3",
      "include_colab_link": true
    },
    "kernelspec": {
      "name": "python3",
      "display_name": "Python 3"
    },
    "language_info": {
      "name": "python"
    }
  },
  "cells": [
    {
      "cell_type": "markdown",
      "metadata": {
        "id": "view-in-github",
        "colab_type": "text"
      },
      "source": [
        "<a href=\"https://colab.research.google.com/github/KTB2110/PortfolioProjects/blob/Projects/SentimentAnalysisFINVIZ.ipynb\" target=\"_parent\"><img src=\"https://colab.research.google.com/assets/colab-badge.svg\" alt=\"Open In Colab\"/></a>"
      ]
    },
    {
      "cell_type": "markdown",
      "source": [
        "# **Welcome to Sentiment Analysis of Stocks powered by FINVIZ**\n",
        "\n",
        "**This program enables you to obtain information on the sentiment of your desired stock listing/Company over the last few days based on recent articles published pertaining to the Company.**"
      ],
      "metadata": {
        "id": "eiAGAC_5aDLk"
      }
    },
    {
      "cell_type": "markdown",
      "source": [
        "### Please run the code chunks below!"
      ],
      "metadata": {
        "id": "KcUfrRgSaC8R"
      }
    },
    {
      "cell_type": "code",
      "execution_count": 86,
      "metadata": {
        "id": "_3-CKuIcedm-",
        "colab": {
          "base_uri": "https://localhost:8080/"
        },
        "outputId": "48c3684f-c9b4-46f0-f26f-942351361201"
      },
      "outputs": [
        {
          "output_type": "stream",
          "name": "stdout",
          "text": [
            "[nltk_data] Downloading package vader_lexicon to /root/nltk_data...\n",
            "[nltk_data]   Package vader_lexicon is already up-to-date!\n"
          ]
        }
      ],
      "source": [
        "import nltk\n",
        "nltk.download('vader_lexicon')\n",
        "from nltk.sentiment.vader import SentimentIntensityAnalyzer\n",
        "\n",
        "from plotnine import *\n",
        "import pandas as pd\n",
        "from urllib.request import urlopen, Request\n",
        "from bs4 import BeautifulSoup\n",
        "import matplotlib.pyplot as plt"
      ]
    },
    {
      "cell_type": "code",
      "source": [
        "df = pd.read_csv(\"stocks.csv\")\n",
        "df = df[['Symbol', 'Name']]\n",
        "\n",
        "df['Symbol'] = df['Symbol'].str.upper()\n",
        "df['Name'] = df['Name'].str.upper()\n",
        "# stock_dict = df.set_index('Symbol').T.to_dict()\n",
        "stock_dict = pd.Series(df.Symbol.values,index=df.Name).to_dict()\n",
        "reverse_dict = pd.Series(df.Name.values,index=df.Symbol).to_dict()"
      ],
      "metadata": {
        "id": "nED9pmdwQocM"
      },
      "execution_count": 87,
      "outputs": []
    },
    {
      "cell_type": "markdown",
      "source": [
        "### Run this code block below and provide input!\n"
      ],
      "metadata": {
        "id": "Ap8I9IPDQ02I"
      }
    },
    {
      "cell_type": "code",
      "source": [
        "tickers = []\n",
        "search_results = []\n",
        "while True:\n",
        "  print(\"Welcome to Stock Sentiment Analysis Powered by FINVIZ\")\n",
        "  print(\"Please enter the stocks you want to analyze one-by-one when prompted.\\nType 'Default' if you want to see how we work with a sample list of stock listings!\\nType 'Done' when you are done entering your desired stock listings!\")\n",
        "\n",
        "  search = input(\"Enter desired stock name or company name:\\n\")\n",
        "  search = search.upper()\n",
        "  \n",
        "  while((search != 'DONE') and (search != 'DEFAULT')):\n",
        "    \n",
        "    score = 0\n",
        "    for value in stock_dict.values():\n",
        "      if search == value:\n",
        "        tickers.append(value)\n",
        "        score = 1\n",
        "        break\n",
        "\n",
        "    for key in stock_dict.keys():\n",
        "      if search in key:\n",
        "        tickers.append(stock_dict[key])\n",
        "        score = 1\n",
        "        break\n",
        "\n",
        "    if (score == 0):\n",
        "      print(\"There seems to be an error in what you have entered.\\nPlease check for correct Stock Name or Company Name and Try Again!\")\n",
        "\n",
        "    search = input(\"Enter desired stock name or company name:\\n\")\n",
        "    search = search.upper()\n",
        "  \n",
        "  if (search == 'DEFAULT'):\n",
        "    tickers = ['AMZN', \"GOOG\", \"FB\"]\n",
        "    print(\"Thank you. \\nAnalyzing...\")\n",
        "    break\n",
        "  elif (search == 'DONE'):\n",
        "    print(\"Thank you. \\nAnalyzing...\")\n",
        "    break\n"
      ],
      "metadata": {
        "colab": {
          "base_uri": "https://localhost:8080/"
        },
        "id": "XDMqf_ULOF29",
        "outputId": "fdd04214-4d02-43df-dc17-a0081e1c514a"
      },
      "execution_count": 88,
      "outputs": [
        {
          "output_type": "stream",
          "name": "stdout",
          "text": [
            "Welcome to Stock Sentiment Analysis Powered by FINVIZ\n",
            "Please enter the stocks you want to analyze one-by-one when prompted.\n",
            "Type 'Default' if you want to see how we work with a sample list of stock listings!\n",
            "Type 'Done' when you are done entering your desired stock listings!\n",
            "Enter desired stock name or company name:\n",
            "MSFT\n",
            "Enter desired stock name or company name:\n",
            "AMZN\n",
            "Enter desired stock name or company name:\n",
            "NIKE\n",
            "Enter desired stock name or company name:\n",
            "done\n",
            "Thank you. \n",
            "Analyzing...\n"
          ]
        }
      ]
    },
    {
      "cell_type": "markdown",
      "source": [
        "## RUN ALL THE REMAINING CODE BLOCKS"
      ],
      "metadata": {
        "id": "eHWsklmdZfpk"
      }
    },
    {
      "cell_type": "code",
      "source": [
        "print(tickers)\n",
        "finviz_url = 'https://finviz.com/quote.ashx?t='\n",
        "# tickers = ['AMZN', \"GOOG\", \"FB\"]\n",
        "\n",
        "news_tables = {}"
      ],
      "metadata": {
        "id": "6YXLGgnyefg3",
        "colab": {
          "base_uri": "https://localhost:8080/"
        },
        "outputId": "b8ff274e-e155-42b7-bfcd-735506dda44c"
      },
      "execution_count": 89,
      "outputs": [
        {
          "output_type": "stream",
          "name": "stdout",
          "text": [
            "['MSFT', 'AMZN', 'NKE']\n"
          ]
        }
      ]
    },
    {
      "cell_type": "code",
      "source": [
        "for ticker in tickers:\n",
        "  url = finviz_url + ticker\n",
        "\n",
        "  req = Request(url = url, headers = {'user-agent' : 'my-app'})\n",
        "  response = urlopen(req)\n",
        "  \n",
        "  html = BeautifulSoup(response, 'html')\n",
        "  news_table = html.find(id = 'news-table')\n",
        "  news_tables[ticker] = news_table"
      ],
      "metadata": {
        "id": "9Oc2BJAp_enR"
      },
      "execution_count": 90,
      "outputs": []
    },
    {
      "cell_type": "code",
      "source": [
        "parsed_data = []"
      ],
      "metadata": {
        "id": "VEv_LVxXB8t2"
      },
      "execution_count": 91,
      "outputs": []
    },
    {
      "cell_type": "code",
      "source": [
        "for ticker, news_table in news_tables.items():\n",
        "  for row in news_table.findAll('tr'):\n",
        "    title = row.a.text\n",
        "    date_data = row.td.text.split(' ')\n",
        "\n",
        "    if len(date_data) == 1:\n",
        "      time = date_data[0]\n",
        "    else :\n",
        "      time = date_data[1]\n",
        "      date = date_data[0]\n",
        "\n",
        "    parsed_data.append([ticker, date, time, title])\n",
        "\n",
        "print(parsed_data)"
      ],
      "metadata": {
        "colab": {
          "base_uri": "https://localhost:8080/"
        },
        "id": "nChdwd3GBtdj",
        "outputId": "ba53372f-57b3-4efa-8da6-bd379f44df42"
      },
      "execution_count": 92,
      "outputs": [
        {
          "output_type": "stream",
          "name": "stdout",
          "text": [
            "[['MSFT', 'Feb-10-22', '03:46PM\\xa0\\xa0', 'Ken Fisher Sold These 10 Stocks Before Entering 2022'], ['MSFT', 'Feb-10-22', '03:29PM\\xa0\\xa0', 'Morgan Stanley Pounds the Table on Microsoft Stock'], ['MSFT', 'Feb-10-22', '02:43PM\\xa0\\xa0', 'If your job doesnt give you purposeful work, you owe it to yourself to join the Great Reshuffle'], ['MSFT', 'Feb-10-22', '02:12PM\\xa0\\xa0', \"Stocks' Decline Steepens on Bullard Rate Comments, Inflation Data\"], ['MSFT', 'Feb-10-22', '01:17PM\\xa0\\xa0', 'Market check: Stocks mixed after inflation print, Fed rate hike uncertainty'], ['MSFT', 'Feb-10-22', '12:56PM\\xa0\\xa0', 'Twilio and Datadog Are Reminder of Softwares Growth Bona Fides'], ['MSFT', 'Feb-10-22', '11:17AM\\xa0\\xa0', 'Market check: Stocks choppy as investors digest hot inflation'], ['MSFT', 'Feb-10-22', '10:40AM\\xa0\\xa0', 'Inflation Hits 7.5%, 40-Year High, Pushing Stocks Lower'], ['MSFT', 'Feb-10-22', '10:00AM\\xa0\\xa0', 'Is Roblox Stock A Buy Right Now After Hitting All-Time Lows?'], ['MSFT', 'Feb-10-22', '09:00AM\\xa0\\xa0', 'YouTube Plans to Make Gaming Videos Immersive in Metaverse Push'], ['MSFT', 'Feb-10-22', '09:00AM\\xa0\\xa0', 'Leading organizations form the Carbon Call to address reliability and interoperability in carbon accounting for the planet'], ['MSFT', 'Feb-10-22', '08:59AM\\xa0\\xa0', '10 Worst Performing Hedge Funds of 2021'], ['MSFT', 'Feb-10-22', '08:54AM\\xa0\\xa0', '3 Dividend-Paying Tech Stocks to Buy Right Now'], ['MSFT', 'Feb-10-22', '07:58AM\\xa0\\xa0', '10 Best Cryptocurrencies to Invest In For Beginners in 2022 According to Reddit'], ['MSFT', 'Feb-10-22', '06:00AM\\xa0\\xa0', 'Canadian business leaders lack comprehensive data strategy to drive growth and innovation, according to new research'], ['MSFT', 'Feb-10-22', '12:52AM\\xa0\\xa0', 'Sony Develops Toughest\\xa0AI Opponent Ever for New Gran Turismo Game'], ['MSFT', 'Feb-09-22', '06:59PM\\xa0\\xa0', 'Taking Stock of the Earnings Picture Amid the Market Rebound'], ['MSFT', 'Feb-09-22', '06:31PM\\xa0\\xa0', 'Microsoft Says Call of Duty Is Staying on PlayStation. Activision Stock Rose.'], ['MSFT', 'Feb-09-22', '05:22PM\\xa0\\xa0', 'Zynga Revenue Beats Estimates on Omicron Surge'], ['MSFT', 'Feb-09-22', '03:34PM\\xa0\\xa0', 'Microsoft takes swipe at Apple and Google with new app store rules'], ['MSFT', 'Feb-09-22', '03:09PM\\xa0\\xa0', 'Microsoft appeals to regulators ahead of $70 billion Activision-Blizzard deal'], ['MSFT', 'Feb-09-22', '02:52PM\\xa0\\xa0', 'Biggest Single-Day Market Cap Drops in U.S. Stocks'], ['MSFT', 'Feb-09-22', '02:50PM\\xa0\\xa0', 'Corsair Gaming moving past pandemic-driven surge of gamers, CEO says'], ['MSFT', 'Feb-09-22', '02:29PM\\xa0\\xa0', \"Fed 'at or approaching peak hawkishness, strategist says\"], ['MSFT', 'Feb-09-22', '02:26PM\\xa0\\xa0', 'Metas Stock Slide Puts Spotlight on Tech Antitrust Bill Criteria'], ['MSFT', 'Feb-09-22', '01:28PM\\xa0\\xa0', 'Microsoft Lays Out New App Store Rules as It Seeks Approval of Its Activision Deal'], ['MSFT', 'Feb-09-22', '12:29PM\\xa0\\xa0', 'UPDATE 2-Microsoft unveils new app store guidelines as it woos regulators on deal'], ['MSFT', 'Feb-09-22', '11:33AM\\xa0\\xa0', \"Stock market theme in 2022 is about 'show me the money,' strategist says\"], ['MSFT', 'Feb-09-22', '11:31AM\\xa0\\xa0', 'Microsoft unveils new app store guidelines as it woos regulators on deal'], ['MSFT', 'Feb-09-22', '11:12AM\\xa0\\xa0', 'Mandiant Stock Rises on Report of Microsoft Interest, Better-Than-Expected Results'], ['MSFT', 'Feb-09-22', '10:46AM\\xa0\\xa0', \"Big Tech: 'It's hard to stay on top more than 10 years,' former Cisco CEO says\"], ['MSFT', 'Feb-09-22', '09:51AM\\xa0\\xa0', 'Market check: Stocks rise in early trading, Treasury yields retreat'], ['MSFT', 'Feb-09-22', '09:51AM\\xa0\\xa0', '4 Dow Jones Stocks To Buy And Watch In February 2022: Apple Rallies'], ['MSFT', 'Feb-09-22', '09:32AM\\xa0\\xa0', 'Dow Jones Rallies As Treasury Yields Retreat; Chipotle, CVS, Lyft Are Key Earnings Movers'], ['MSFT', 'Feb-09-22', '07:21AM\\xa0\\xa0', \"3 Reasons Activision Blizzard's Sale to Microsoft Is a Masterstroke\"], ['MSFT', 'Feb-09-22', '05:30AM\\xa0\\xa0', 'LinkedIn CEO on New No-Politics Button, the Great Reshuffle and More'], ['MSFT', 'Feb-09-22', '05:06AM\\xa0\\xa0', 'Mandiant Stock Rises on Report of Microsoft Interest, Better-Than-Expected Results'], ['MSFT', 'Feb-09-22', '05:06AM\\xa0\\xa0', 'Can Microsoft Regain Its Upside Momentum?'], ['MSFT', 'Feb-09-22', '01:30AM\\xa0\\xa0', '6 Key Takeaways From Recent Tech Earnings Reports and Calls'], ['MSFT', 'Feb-08-22', '05:40PM\\xa0\\xa0', 'Top Stock Reports for Microsoft, Amazon & Tesla'], ['MSFT', 'Feb-08-22', '04:48PM\\xa0\\xa0', 'Microsoft Considers Pursuing a Deal for Cybersecurity Firm Mandiant'], ['MSFT', 'Feb-08-22', '03:39PM\\xa0\\xa0', 'Minority-focused ETF created with NAACP vision in mind'], ['MSFT', 'Feb-08-22', '03:12PM\\xa0\\xa0', 'Microsoft reportedly pursuing deal for cybersecurity company Mandiant'], ['MSFT', 'Feb-08-22', '02:52PM\\xa0\\xa0', 'Should You Sell Your Beaten-Down Stocks As the Market Tumbles?'], ['MSFT', 'Feb-08-22', '02:38PM\\xa0\\xa0', 'Sentinel Pension Advisors Inc Buys Invesco BulletShares 2024 Corporate Bond ETF, Focus ...'], ['MSFT', 'Feb-08-22', '02:38PM\\xa0\\xa0', 'CORDA Investment Management, LLC. Buys iShares iBonds Dec 2025 Term Corporate ETF, Corning Inc, ...'], ['MSFT', 'Feb-08-22', '01:41PM\\xa0\\xa0', 'Microsoft Stock Still a Strong Buy. Earnings Growth Is One Reason.'], ['MSFT', 'Feb-08-22', '01:00PM\\xa0\\xa0', 'Bill Gates Writes Book on How to Make Covid-19 the Last Pandemic'], ['MSFT', 'Feb-08-22', '12:57PM\\xa0\\xa0', 'US STOCKS-Wall Street climbs as Apple, bank stocks jump'], ['MSFT', 'Feb-08-22', '11:53AM\\xa0\\xa0', 'Take-Two Interactive stock slips after Grand Theft Auto maker reports mixed earnings'], ['MSFT', 'Feb-08-22', '11:37AM\\xa0\\xa0', \"Flapmax Partners with Microsoft to Scale Africa's Digital Ecosystem\"], ['MSFT', 'Feb-08-22', '11:33AM\\xa0\\xa0', '10 Best Performing Hedge Funds of 2021'], ['MSFT', 'Feb-08-22', '09:38AM\\xa0\\xa0', 'Welch Capital Partners Llc Buys Hilton Grand Vacations Inc, InnovAge Holding Corp, Fidelity ...'], ['MSFT', 'Feb-08-22', '09:36AM\\xa0\\xa0', 'Dow Jones Rallies; Drug Giant Pfizer Slides On Earnings'], ['MSFT', 'Feb-08-22', '08:51AM\\xa0\\xa0', 'Take-Two Stock Falls. CEO Sees No Significant Impact From Microsoft-Activision Merger.'], ['MSFT', 'Feb-08-22', '08:25AM\\xa0\\xa0', 'Does Microsoft (NASDAQ:MSFT) Have A Healthy Balance Sheet?'], ['MSFT', 'Feb-08-22', '08:08AM\\xa0\\xa0', 'Can Zoom Thrive in a Post-Pandemic World?'], ['MSFT', 'Feb-08-22', '05:26AM\\xa0\\xa0', 'Microsoft is secretly testing new Windows 11 features - and users might have them without knowing about it'], ['MSFT', 'Feb-08-22', '03:55AM\\xa0\\xa0', 'FTSE 100 loses steam as economists predict UK inflation to soar in 2022'], ['MSFT', 'Feb-07-22', '09:38PM\\xa0\\xa0', 'Prime Capital Investment Advisors, LLC Buys Consumer Discretionary Select Sector SPDR, Walmart ...'], ['MSFT', 'Feb-07-22', '08:38PM\\xa0\\xa0', 'Claraphi Advisory Network, LLC Buys Pacer US Cash Cows 100 ETF, Alpine 4 Holdings Inc, Marvell ...'], ['MSFT', 'Feb-07-22', '08:38PM\\xa0\\xa0', 'Summit Financial, LLC Buys Microsoft Corp, PowerShares QQQ Trust Ser 1, First Trust Preferred ...'], ['MSFT', 'Feb-07-22', '07:01PM\\xa0\\xa0', 'How Google is making inroads into the crypto ecosystem'], ['MSFT', 'Feb-07-22', '06:34PM\\xa0\\xa0', 'Why Did Snowflake Stock Drop 19% in January?'], ['MSFT', 'Feb-07-22', '06:32PM\\xa0\\xa0', 'Big Tech Looks To Buy Beaten Down Innovation-Fueled Entrants'], ['MSFT', 'Feb-07-22', '05:38PM\\xa0\\xa0', 'Hamilton Capital, LLC Buys Vanguard S&P 500 Value ETF, iShares Core S&P Mid-Cap ETF, ...'], ['MSFT', 'Feb-07-22', '05:38PM\\xa0\\xa0', 'Maytus Capital Management, LLC Buys ServiceNow Inc, Datadog Inc, Elastic NV, Sells Salesforce. ...'], ['MSFT', 'Feb-07-22', '05:23PM\\xa0\\xa0', 'Take-Two Misses Estimates as Market Awaits News on Next GTA'], ['MSFT', 'Feb-07-22', '04:53PM\\xa0\\xa0', 'Take-Two Stock Falls on Earnings. The CEO Sees No Significant Impact From Microsoft-Activision Merger.'], ['MSFT', 'Feb-07-22', '04:09PM\\xa0\\xa0', '10 Best Dividend Stocks Billionaire Paul Tudor Jones Is Buying'], ['MSFT', 'Feb-07-22', '02:56PM\\xa0\\xa0', \"Meta has 'dark days' ahead: analyst\"], ['MSFT', 'Feb-07-22', '01:38PM\\xa0\\xa0', 'Benjamin Edwards Inc Buys Apple Inc, NextEra Energy Inc, Microsoft Corp, Sells ISHARES TRUST, ...'], ['MSFT', 'Feb-07-22', '01:37PM\\xa0\\xa0', 'Tesla, Nvidia, Microsoft Regroup As Uptrend Looks To Firm Up'], ['MSFT', 'Feb-07-22', '12:47PM\\xa0\\xa0', 'TBJ Plus: The 9 most admired companies in NC; Torry Holt delivers Super Bowl trophy; Fat bikes return to Wrightsville Beach'], ['MSFT', 'Feb-07-22', '12:25PM\\xa0\\xa0', \"The stock market 'is squeezing out some of the excesses at this point,' portfolio manager says\"], ['MSFT', 'Feb-07-22', '11:04AM\\xa0\\xa0', 'Apple cannot let Amazon get hold of Peloton, analyst says'], ['MSFT', 'Feb-07-22', '10:05AM\\xa0\\xa0', 'Is Snowflake Stock A Buy Amid Software Sector Volatility?'], ['MSFT', 'Feb-07-22', '09:51AM\\xa0\\xa0', 'Analyst Pounds the Table on Microsoft Stock'], ['MSFT', 'Feb-07-22', '09:51AM\\xa0\\xa0', 'Hasbro names Microsoft exec to head digital gaming division, Dungeons & Dragons subsidiary'], ['MSFT', 'Feb-07-22', '08:49AM\\xa0\\xa0', 'Here Are the Tech Stocks to Buy After a Crazy Week of Earnings'], ['MSFT', 'Feb-07-22', '08:14AM\\xa0\\xa0', 'Amazon, Alphabet, Apple, Facebook and Microsoft are part of Zacks Earnings Preview'], ['MSFT', 'Feb-07-22', '08:11AM\\xa0\\xa0', 'Dow Jones Futures Rise With Market Rally At Key Point; Peloton Soars On Buyout Buzz'], ['MSFT', 'Feb-06-22', '03:35PM\\xa0\\xa0', 'Crypto Crash 2022: Top 10 Losers in January'], ['MSFT', 'Feb-06-22', '03:06PM\\xa0\\xa0', '10 Monthly Dividend Stocks with Over 5% Yield'], ['MSFT', 'Feb-06-22', '10:57AM\\xa0\\xa0', \"Wordle, Activision, Zynga ride a 'tide' of FOMO driving big video game deals\"], ['MSFT', 'Feb-06-22', '09:00AM\\xa0\\xa0', '$1.4 trillion? Big Techs pandemic year produces mind-boggling financial results'], ['MSFT', 'Feb-06-22', '05:51AM\\xa0\\xa0', '3 Ways to Stake Your Claim to the $30 Trillion Metaverse'], ['MSFT', 'Feb-05-22', '11:45AM\\xa0\\xa0', '2 Unstoppable Stocks to Buy and Hold Forever'], ['MSFT', 'Feb-05-22', '08:00AM\\xa0\\xa0', 'Why Ankr Coin Might Go Sky High'], ['MSFT', 'Feb-05-22', '07:50AM\\xa0\\xa0', '2 Growth Stocks to Buy and Hold Forever'], ['MSFT', 'Feb-04-22', '07:05PM\\xa0\\xa0', 'Here Are the Tech Stocks to Buy After a Crazy Week of Earnings'], ['MSFT', 'Feb-04-22', '05:38PM\\xa0\\xa0', 'Modera Wealth Management, LLC Buys Microsoft Corp, Amazon. ...'], ['MSFT', 'Feb-04-22', '05:38PM\\xa0\\xa0', 'Seven Springs Wealth Group, LLC Buys Bank of America Corp, Microsoft Corp, iShares S&P ...'], ['MSFT', 'Feb-04-22', '04:23PM\\xa0\\xa0', 'Amazon\\xa0Shares\\xa0Jump\\xa0as Cloud Unit Helps Drive\\xa0Profit Past Estimates'], ['MSFT', 'Feb-04-22', '04:22PM\\xa0\\xa0', 'Big Techs Week Featured Alphabet and Amazon Rallies, Meta Crash'], ['MSFT', 'Feb-04-22', '04:10PM\\xa0\\xa0', 'OpenText CEO: Zix acquisition doesnt change our direction toward cloud growth'], ['MSFT', 'Feb-04-22', '03:43PM\\xa0\\xa0', 'Is Shopify Stock A Buy? SHOP Stock Looks For Another Huge Holiday Quarter'], ['MSFT', 'Feb-04-22', '03:40PM\\xa0\\xa0', 'Apple, Nvidia Lead List Of New Buys By The Best Mutual Funds'], ['MSFT', 'Feb-04-22', '02:38PM\\xa0\\xa0', 'Van Hulzen Asset Management, LLC Buys Vertex Pharmaceuticals Inc, Microsoft Corp, AbbVie Inc, ...'], ['MSFT', 'Feb-04-22', '02:34PM\\xa0\\xa0', \"January jobs report 'was full of surprises,' Opimas CEO explains\"], ['AMZN', 'Feb-11-22', '01:08AM\\xa0\\xa0', 'Amazon drops mask requirements for vaccinated employees'], ['AMZN', 'Feb-10-22', '11:12PM\\xa0\\xa0', \"Amazon's PenPlace design earns key approval, heads into final stretch of reviews\"], ['AMZN', 'Feb-10-22', '08:11PM\\xa0\\xa0', 'Top Amazon exec has moved to Dallas from the Seattle area'], ['AMZN', 'Feb-10-22', '06:21PM\\xa0\\xa0', 'Why Rivian Shares Are Jumping This Week'], ['AMZN', 'Feb-10-22', '06:10PM\\xa0\\xa0', 'Could Rivian Get Acquired in 2022?'], ['AMZN', 'Feb-10-22', '05:50PM\\xa0\\xa0', 'Report: Amazon retail CEO Dave Clark sells Medina home, moves to Dallas'], ['AMZN', 'Feb-10-22', '05:31PM\\xa0\\xa0', 'UPDATE 2-Amazon to allow work without face masks, require vaccination for paid COVID leave'], ['AMZN', 'Feb-10-22', '05:15PM\\xa0\\xa0', 'Amazon to allow work without face masks, require vaccination for paid COVID leave'], ['AMZN', 'Feb-10-22', '05:13PM\\xa0\\xa0', 'Affirm Stock Tumbles As Earnings Released Ahead Of Schedule'], ['AMZN', 'Feb-10-22', '05:08PM\\xa0\\xa0', 'Why Peloton Skyrocketed This Week'], ['AMZN', 'Feb-10-22', '04:50PM\\xa0\\xa0', 'Disney Stock Pops As Earnings Top Amid Theme Park Revival; Disney+ Subscribers Strong'], ['AMZN', 'Feb-10-22', '04:25PM\\xa0\\xa0', 'Twilio Gains as Profit Outlook Removes Question Over Growth'], ['AMZN', 'Feb-10-22', '04:19PM\\xa0\\xa0', \"Here's How Amex Cardholders Can Get 40% Off an Amazon Purchase\"], ['AMZN', 'Feb-10-22', '03:50PM\\xa0\\xa0', 'You Can Now Book a\\xa0Marvelous Mrs. Maisel Suite at the Plaza Hotel'], ['AMZN', 'Feb-10-22', '03:46PM\\xa0\\xa0', 'Ken Fisher Sold These 10 Stocks Before Entering 2022'], ['AMZN', 'Feb-10-22', '03:45PM\\xa0\\xa0', 'Is Amazon Stock A Buy After A Positive Quarterly Earnings Report'], ['AMZN', 'Feb-10-22', '01:17PM\\xa0\\xa0', 'Market check: Stocks mixed after inflation print, Fed rate hike uncertainty'], ['AMZN', 'Feb-10-22', '01:05PM\\xa0\\xa0', 'Why IT Will Drive the Market in 2022  for Better or Worse'], ['AMZN', 'Feb-10-22', '11:45AM\\xa0\\xa0', 'A Pairing of Peloton and Amazon Makes a Lot of Sense'], ['AMZN', 'Feb-10-22', '11:39AM\\xa0\\xa0', \"Disney CEO: 'We continue to see value in the moviegoing experience'\"], ['AMZN', 'Feb-10-22', '11:28AM\\xa0\\xa0', 'Why Rivian Stock Sank and Then Jumped Today'], ['AMZN', 'Feb-10-22', '11:17AM\\xa0\\xa0', 'Market check: Stocks choppy as investors digest hot inflation'], ['AMZN', 'Feb-10-22', '11:13AM\\xa0\\xa0', 'PODCAST: National Taxpayer Advocate Erin M. Collins Wants to Help'], ['AMZN', 'Feb-10-22', '11:06AM\\xa0\\xa0', \"Whole Foods Market, Inc. -- Moody's announces completion of a periodic review of ratings of Amazon.com, Inc.\"], ['AMZN', 'Feb-10-22', '10:26AM\\xa0\\xa0', 'Disney earnings: The biggest surprise was in the theme park business, analyst says'], ['AMZN', 'Feb-10-22', '09:48AM\\xa0\\xa0', 'Supply chains drove consumers to the big brands, PepsiCo CFO says'], ['AMZN', 'Feb-10-22', '09:36AM\\xa0\\xa0', 'Disney earnings: Streaming subscribers, theme park revenue jump in Q1'], ['AMZN', 'Feb-10-22', '09:30AM\\xa0\\xa0', 'Is eBay a Top Stock to Buy and Hold in 2022 and Beyond?'], ['AMZN', 'Feb-10-22', '08:57AM\\xa0\\xa0', '3 Top Cloud Stocks to Buy in February'], ['AMZN', 'Feb-10-22', '07:56AM\\xa0\\xa0', \"Activist investors to nominate new Kohl's board members, suggest Kohl's visited Amazon\"], ['AMZN', 'Feb-10-22', '07:40AM\\xa0\\xa0', '3 Top Artificial Intelligence Stocks to Buy in February'], ['AMZN', 'Feb-10-22', '07:18AM\\xa0\\xa0', '1 Real Estate Stock to Play the E-Commerce Boom'], ['AMZN', 'Feb-10-22', '06:26AM\\xa0\\xa0', \"Can This Beaten-Down Growth Stock Overcome PayPal's Collapse?\"], ['AMZN', 'Feb-09-22', '07:10PM\\xa0\\xa0', 'Samsung Ends Note and Bets Big on Foldables to Tackle IPhone'], ['AMZN', 'Feb-09-22', '06:42PM\\xa0\\xa0', 'Disney parks still a few years off peak attendance, analyst says'], ['AMZN', 'Feb-09-22', '06:01PM\\xa0\\xa0', 'Disney Earnings: What Happened with DIS'], ['AMZN', 'Feb-09-22', '05:55PM\\xa0\\xa0', \"Worried About Another Market Downturn? Here's What Investors Should Focus on Instead\"], ['AMZN', 'Feb-09-22', '05:49PM\\xa0\\xa0', \"Amazon's headcount in Washington state swells past 85,000\"], ['AMZN', 'Feb-09-22', '04:45PM\\xa0\\xa0', 'Will Affirm Stock Surprise With Amazon-Driven Beat And Raise?'], ['AMZN', 'Feb-09-22', '04:03PM\\xa0\\xa0', \"Don't Expect Big Gains From This Stock Market Sector in 2022\"], ['AMZN', 'Feb-09-22', '03:20PM\\xa0\\xa0', 'Could This Unstoppable Stock have 100% or More Upside?'], ['AMZN', 'Feb-09-22', '02:52PM\\xa0\\xa0', 'Biggest Single-Day Market Cap Drops in U.S. Stocks'], ['AMZN', 'Feb-09-22', '02:29PM\\xa0\\xa0', \"Fed 'at or approaching peak hawkishness, strategist says\"], ['AMZN', 'Feb-09-22', '02:26PM\\xa0\\xa0', 'Metas Stock Slide Puts Spotlight on Tech Antitrust Bill Criteria'], ['AMZN', 'Feb-09-22', '02:03PM\\xa0\\xa0', 'Robotic delivery fleets could multiply across Atlanta, with new state regulations'], ['AMZN', 'Feb-09-22', '01:44PM\\xa0\\xa0', \"Meta Is Now Calling Out Google Over Apple's App Privacy Rules\"], ['AMZN', 'Feb-09-22', '01:40PM\\xa0\\xa0', 'Meta shares rise, travel stocks up, Chinese EV makers rally'], ['AMZN', 'Feb-09-22', '11:33AM\\xa0\\xa0', \"Stock market theme in 2022 is about 'show me the money,' strategist says\"], ['AMZN', 'Feb-09-22', '11:25AM\\xa0\\xa0', 'Silicon Valleys Congressman wants to rein in Big Tech in 3 areas'], ['AMZN', 'Feb-09-22', '11:16AM\\xa0\\xa0', 'Amazon officially a supermarket, say competition chiefs'], ['AMZN', 'Feb-09-22', '11:08AM\\xa0\\xa0', \"Globalization of supply chains is 'the big difference' driving inflation today, strategist says\"], ['AMZN', 'Feb-09-22', '10:46AM\\xa0\\xa0', \"Big Tech: 'It's hard to stay on top more than 10 years,' former Cisco CEO says\"], ['AMZN', 'Feb-09-22', '10:05AM\\xa0\\xa0', '5 Top-Ranked Tech ETFs to Buy at Bargain Price'], ['AMZN', 'Feb-09-22', '10:00AM\\xa0\\xa0', \"Amazon Is Raising the Price of Prime to $139, Here's Why\"], ['AMZN', 'Feb-09-22', '08:29AM\\xa0\\xa0', '3 Stocks That Can Outperform Bitcoin'], ['AMZN', 'Feb-09-22', '07:56AM\\xa0\\xa0', 'Amazon classified as grocery retailer in the UK'], ['AMZN', 'Feb-09-22', '07:54AM\\xa0\\xa0', 'Amazon must adhere to UK supplier rules after grocery turnover tops 1 billion pounds'], ['AMZN', 'Feb-09-22', '07:48AM\\xa0\\xa0', 'Amazon must adhere to UK supplier rules after grocery turnover tops 1 bln pounds'], ['AMZN', 'Feb-09-22', '07:20AM\\xa0\\xa0', 'Amazon Earnings Helped by Rivian Stake, but Is Rivian a Buy Now?'], ['AMZN', 'Feb-09-22', '07:00AM\\xa0\\xa0', 'How Facebook Could Take On TikTok With One Simple Move'], ['AMZN', 'Feb-09-22', '06:07AM\\xa0\\xa0', \"Amazon's Pursuit of Peloton Is a Sign of Trouble\"], ['AMZN', 'Feb-09-22', '03:56AM\\xa0\\xa0', 'European stock markets edge higher as global stocks rally'], ['AMZN', 'Feb-09-22', '01:30AM\\xa0\\xa0', '6 Key Takeaways From Recent Tech Earnings Reports and Calls'], ['AMZN', 'Feb-08-22', '07:35PM\\xa0\\xa0', 'Is Amazon Prime Really Worth $139 per Year?'], ['AMZN', 'Feb-08-22', '06:05PM\\xa0\\xa0', '10 Little-Known Perks of Your Amazon Prime Membership'], ['AMZN', 'Feb-08-22', '05:42PM\\xa0\\xa0', 'U.S. Trade Deficit Hit Record in 2021 as Americans Spent on Computers, Games'], ['AMZN', 'Feb-08-22', '05:40PM\\xa0\\xa0', 'Top Stock Reports for Microsoft, Amazon & Tesla'], ['AMZN', 'Feb-08-22', '05:15PM\\xa0\\xa0', \"Crowdfunding film projects can help 'drive diversity in entertainment,' Seed&Spark CEO says\"], ['AMZN', 'Feb-08-22', '04:48PM\\xa0\\xa0', 'Microsoft Considers Pursuing a Deal for Cybersecurity Firm Mandiant'], ['AMZN', 'Feb-08-22', '04:17PM\\xa0\\xa0', 'University of Maryland Global Campus takes lead at Crystal City space UMd. leased in 2019'], ['AMZN', 'Feb-08-22', '04:13PM\\xa0\\xa0', 'Pelotons Surprise Shake-Up Triggers Record-Setting Rally'], ['AMZN', 'Feb-08-22', '04:02PM\\xa0\\xa0', 'Amazon Expands In-Person Health Care Services To 20 Additional Cities'], ['AMZN', 'Feb-08-22', '03:39PM\\xa0\\xa0', 'Minority-focused ETF created with NAACP vision in mind'], ['AMZN', 'Feb-08-22', '02:47PM\\xa0\\xa0', 'Streaming: Netflix dominates 2022 Oscar nominations'], ['AMZN', 'Feb-08-22', '02:46PM\\xa0\\xa0', 'Why Affirm Stock Lost 36% in January'], ['AMZN', 'Feb-08-22', '02:40PM\\xa0\\xa0', 'Peloton still has one other big problem  its board of directors'], ['AMZN', 'Feb-08-22', '02:38PM\\xa0\\xa0', 'Nikko Asset Management Americas, Inc. Buys Roku Inc, Zoom Video Communications Inc, Twilio Inc, ...'], ['AMZN', 'Feb-08-22', '02:38PM\\xa0\\xa0', 'Sentinel Pension Advisors Inc Buys Invesco BulletShares 2024 Corporate Bond ETF, Focus ...'], ['AMZN', 'Feb-08-22', '02:38PM\\xa0\\xa0', 'Artemis Investment Management LLP Buys Amazon. ...'], ['AMZN', 'Feb-08-22', '02:38PM\\xa0\\xa0', 'Van Strum & Towne Inc. Buys Vanguard Short-Term Inflation-Protected Securities, iShares ...'], ['AMZN', 'Feb-08-22', '02:38PM\\xa0\\xa0', 'High Pointe Capital Management Llc Buys iShares Russell 1000 Growth ETF, FedEx Corp, Elanco ...'], ['AMZN', 'Feb-08-22', '02:38PM\\xa0\\xa0', 'Baker Tilly Wealth Management, Llc Buys JPMorgan Ultra-Short Income ETF, Vanguard S&P 500 ...'], ['AMZN', 'Feb-08-22', '12:53PM\\xa0\\xa0', 'Peloton is losing the CEO of its biggest acquisition ever'], ['AMZN', 'Feb-08-22', '12:27PM\\xa0\\xa0', \"Partake CEO details growth, Black venture capital fundraising, and the brand's social impact\"], ['AMZN', 'Feb-08-22', '12:26PM\\xa0\\xa0', \"Peloton's new CEO has one not so secret mission: analyst\"], ['AMZN', 'Feb-08-22', '12:03PM\\xa0\\xa0', 'How Amazon Sent Velodyne Stock Charging Higher on Tuesday'], ['AMZN', 'Feb-08-22', '11:42AM\\xa0\\xa0', 'Netflix receives 25 Oscar nominations, most in company history'], ['AMZN', 'Feb-08-22', '11:33AM\\xa0\\xa0', '10 Best Performing Hedge Funds of 2021'], ['AMZN', 'Feb-08-22', '11:29AM\\xa0\\xa0', 'Amazon Deal Has Shares of Lidar Maker Velodyne Soaring'], ['AMZN', 'Feb-08-22', '11:17AM\\xa0\\xa0', 'Peloton is begging for a takeover'], ['AMZN', 'Feb-08-22', '11:03AM\\xa0\\xa0', \"IRS backs away from facial recognition, Amazon boosts corporate base pay, Thiel to leave Meta's board\"], ['AMZN', 'Feb-08-22', '11:03AM\\xa0\\xa0', 'Velodyne Lidar stock surges after Amazon investment'], ['AMZN', 'Feb-08-22', '10:57AM\\xa0\\xa0', 'Whats next for Amazon? The company will be pulling a lot of money-making levers this year'], ['AMZN', 'Feb-08-22', '10:45AM\\xa0\\xa0', '2 Buffett Stocks to Buy and Hold Forever'], ['AMZN', 'Feb-08-22', '10:38AM\\xa0\\xa0', 'DORCHESTER WEALTH MANAGEMENT Co Buys Nuvei Corp, Newell Brands Inc, Rogers Communications Inc, ...'], ['AMZN', 'Feb-08-22', '10:28AM\\xa0\\xa0', 'Amazon to Bring Medical Services to 20 More Cities This Year'], ['AMZN', 'Feb-08-22', '10:19AM\\xa0\\xa0', 'Peloton Jumps on CEO Departure, Job Cuts, Barry McCarthy to Take Top Spot'], ['AMZN', 'Feb-08-22', '10:02AM\\xa0\\xa0', \"Velodyne Stock Continues To Soar On Amazon's Latest Self-Driving Move\"], ['AMZN', 'Feb-08-22', '09:47AM\\xa0\\xa0', \"Stocks: Several factors are 'settling markets right now', investment strategist Seema Shah explains\"], ['AMZN', 'Feb-08-22', '09:43AM\\xa0\\xa0', 'Amazon Care expands nationwide'], ['NKE', 'Feb-10-22', '05:08PM\\xa0\\xa0', 'Why Peloton Skyrocketed This Week'], ['NKE', 'Feb-10-22', '04:15PM\\xa0\\xa0', 'NIKE, Inc. Declares $0.305 Quarterly Dividend'], ['NKE', 'Feb-10-22', '11:45AM\\xa0\\xa0', 'A Pairing of Peloton and Amazon Makes a Lot of Sense'], ['NKE', 'Feb-10-22', '11:24AM\\xa0\\xa0', 'Super Bowl merch: Fanatics founder details built-up demand for Bengals gear'], ['NKE', 'Feb-09-22', '01:41PM\\xa0\\xa0', 'Dow Jones Rallies 250 Points, Led By Nike, Disney Stock; Nvidia, Palo Alto Networks Score Bullish Gains'], ['NKE', 'Feb-09-22', '07:05AM\\xa0\\xa0', \"Is It Time to Buy the Dow Jones' 3 Worst-Performing Stocks This Year?\"], ['NKE', 'Feb-09-22', '06:07AM\\xa0\\xa0', \"Amazon's Pursuit of Peloton Is a Sign of Trouble\"], ['NKE', 'Feb-08-22', '05:45PM\\xa0\\xa0', 'Nike (NKE) Stock Sinks As Market Gains: What You Should Know'], ['NKE', 'Feb-08-22', '04:13PM\\xa0\\xa0', 'Pelotons Surprise Shake-Up Triggers Record-Setting Rally'], ['NKE', 'Feb-08-22', '02:40PM\\xa0\\xa0', 'Peloton still has one other big problem  its board of directors'], ['NKE', 'Feb-08-22', '02:38PM\\xa0\\xa0', 'Nichols & Pratt Advisers Llp  Buys Global Payments Inc, Terminix Global Holdings Inc, Adobe ...'], ['NKE', 'Feb-08-22', '12:49PM\\xa0\\xa0', '7 Top Millennial Stocks Worth Buying on the Dip'], ['NKE', 'Feb-08-22', '12:26PM\\xa0\\xa0', \"Peloton's new CEO has one not so secret mission: analyst\"], ['NKE', 'Feb-08-22', '09:38AM\\xa0\\xa0', 'Live Oak Private Wealth LLC Buys Bristol-Myers Squibb Co, Sprott Physical Platinum & ...'], ['NKE', 'Feb-08-22', '09:38AM\\xa0\\xa0', 'Constitution Capital LLC Buys UnitedHealth Group Inc, Technology Select Sector SPDR ETF, ...'], ['NKE', 'Feb-08-22', '06:10AM\\xa0\\xa0', \"Who is Peloton's new CEO?\"], ['NKE', 'Feb-07-22', '06:32PM\\xa0\\xa0', 'Big Tech Looks To Buy Beaten Down Innovation-Fueled Entrants'], ['NKE', 'Feb-07-22', '04:37PM\\xa0\\xa0', 'Big Tech May Want to Buy Peloton. Why Its Still Not a Sure Thing.'], ['NKE', 'Feb-07-22', '03:28PM\\xa0\\xa0', 'Why Peloton Stock Was Surging Today'], ['NKE', 'Feb-07-22', '02:22PM\\xa0\\xa0', 'Nike is the latest company to file suit over NFTs as brands get serious about the marketplace'], ['NKE', 'Feb-07-22', '01:38PM\\xa0\\xa0', 'Aft, Forsyth & Company, Inc. Buys Atlassian Corporation PLC, Duck Creek Technologies Inc, ...'], ['NKE', 'Feb-07-22', '01:38PM\\xa0\\xa0', 'Tesco Pension Investment Ltd Buys Netflix Inc, Nike Inc, Salesforce. ...'], ['NKE', 'Feb-07-22', '01:38PM\\xa0\\xa0', 'TPI Fund Managers Ltd Buys Netflix Inc, Nike Inc, PerkinElmer Inc, Sells Fiserv Inc, Medtronic ...'], ['NKE', 'Feb-07-22', '12:26PM\\xa0\\xa0', 'Peloton stock rockets toward biggest gain on record amid reported deal interest, but not all analysts are sold'], ['NKE', 'Feb-07-22', '12:19PM\\xa0\\xa0', 'Earnings: What to expect from Disney and Peloton'], ['NKE', 'Feb-07-22', '11:21AM\\xa0\\xa0', \"Peloton is 'a logical match' for a number of tech companies, analyst says\"], ['NKE', 'Feb-07-22', '11:04AM\\xa0\\xa0', 'Apple cannot let Amazon get hold of Peloton, analyst says'], ['NKE', 'Feb-07-22', '09:55AM\\xa0\\xa0', 'Amazon and Nike reportedly interested in buying Peloton'], ['NKE', 'Feb-07-22', '09:52AM\\xa0\\xa0', 'Soccer-Man Utd striker Greenwood dropped by Nike in wake of arrest'], ['NKE', 'Feb-07-22', '09:44AM\\xa0\\xa0', 'Peloton Soars After Reports of Takeover Interest'], ['NKE', 'Feb-07-22', '09:38AM\\xa0\\xa0', 'Bridgewater Advisors Inc. Buys JPMorgan Ultra-Short Municipal Income ETF, Barclays Bank PLC ZC ...'], ['NKE', 'Feb-07-22', '08:21AM\\xa0\\xa0', \"Is It Time to Buy the Dow Jones' 3 Worst Performing January Stocks?\"], ['NKE', 'Feb-07-22', '07:41AM\\xa0\\xa0', 'Why Apple should buy Peloton for nearly $15 billion: analyst'], ['NKE', 'Feb-07-22', '07:35AM\\xa0\\xa0', 'Peloton surges on reports of buyout interest from Amazon, Nike'], ['NKE', 'Feb-07-22', '06:00AM\\xa0\\xa0', 'The Russell 2000 is performing terribly  why that could be bad news for the stock market: Morning Brief'], ['NKE', 'Feb-07-22', '12:02AM\\xa0\\xa0', 'Peloton Deal May Pose Regulatory Headache for a Tech Giant'], ['NKE', 'Feb-06-22', '05:25AM\\xa0\\xa0', 'Nike Sues a Rival to Dominate the Metaverse Sneakers'], ['NKE', 'Feb-05-22', '04:16PM\\xa0\\xa0', 'Nike Wants to Oust a Rival in The Race for Metaverse Sneakers'], ['NKE', 'Feb-05-22', '01:06PM\\xa0\\xa0', 'Nike Shoes (Sort of) the Subject of New Lawsuit'], ['NKE', 'Feb-05-22', '11:27AM\\xa0\\xa0', 'Reports: Nike, Amazon Could Be Considering Bids for Peloton'], ['NKE', 'Feb-05-22', '09:20AM\\xa0\\xa0', 'Peloton Is Said to Draw Takeover Interest After Share Plunge'], ['NKE', 'Feb-05-22', '04:55AM\\xa0\\xa0', 'Peloton Draws Interest From Amazon, Nike: Papers'], ['NKE', 'Feb-04-22', '11:50PM\\xa0\\xa0', 'Art NFTs Pop Up on the U.S Treasury Radar'], ['NKE', 'Feb-04-22', '05:38PM\\xa0\\xa0', 'Capital Wealth Planning, LLC Buys Marathon Petroleum Corp, Procter & Gamble Co, Cisco ...'], ['NKE', 'Feb-04-22', '05:38PM\\xa0\\xa0', 'Souders Financial Advisors Buys Mondelez International Inc, Fidelity National Information ...'], ['NKE', 'Feb-04-22', '05:38PM\\xa0\\xa0', 'Seven Springs Wealth Group, LLC Buys Bank of America Corp, Microsoft Corp, iShares S&P ...'], ['NKE', 'Feb-04-22', '04:49PM\\xa0\\xa0', 'Nike takes a retailer to court over NFTs'], ['NKE', 'Feb-04-22', '03:21PM\\xa0\\xa0', \"NIKE, Inc. -- Moody's announces completion of a periodic review of ratings of NIKE, Inc.\"], ['NKE', 'Feb-04-22', '02:33PM\\xa0\\xa0', 'Nike joins all-star lineup with WNBA equity investment'], ['NKE', 'Feb-04-22', '02:01PM\\xa0\\xa0', 'Nike Accuses StockX of Trademark Infringement in Sales of NFTs'], ['NKE', 'Feb-04-22', '12:02PM\\xa0\\xa0', 'Nike Vs. StockX: A Metaverse\\xa0Lawsuit'], ['NKE', 'Feb-04-22', '09:53AM\\xa0\\xa0', 'Is Nike Stock a Buy After Catching Its Breath?'], ['NKE', 'Feb-04-22', '09:38AM\\xa0\\xa0', 'Auxano Advisors, LLC Buys Costco Wholesale Corp, iShares MSCI Intl Quality Factor ETF, ...'], ['NKE', 'Feb-04-22', '04:34AM\\xa0\\xa0', 'Nike Sues Online Reseller StockX for Trademark Infringement'], ['NKE', 'Feb-03-22', '07:26PM\\xa0\\xa0', 'Nike cries foul over virtual shoes, suing retailer that sells sneaker NFTs'], ['NKE', 'Feb-03-22', '07:12PM\\xa0\\xa0', 'Nike cries foul over virtual shoes, suing retailer that sells sneaker NFTs'], ['NKE', 'Feb-03-22', '05:38PM\\xa0\\xa0', 'American Assets Investment Management, LLC Buys Shell PLC, Walmart Inc, Exxon Mobil Corp, Sells ...'], ['NKE', 'Feb-03-22', '04:54PM\\xa0\\xa0', 'WNBA Raises $75 Million From Group Including Nike, Condoleezza Rice to Revamp League'], ['NKE', 'Feb-03-22', '01:38PM\\xa0\\xa0', 'PICTET BANK & TRUST Ltd Buys Alphabet Inc, Zoetis Inc, Amazon.com Inc, Sells Pfizer Inc'], ['NKE', 'Feb-03-22', '01:38PM\\xa0\\xa0', 'Manchester Financial Inc Buys First Trust Low Duration Mortgage Opportunities ET, iShares US ...'], ['NKE', 'Feb-03-22', '01:22PM\\xa0\\xa0', \"WNBA Gets $75 Million in Record Capital Raise for Women's Sports\"], ['NKE', 'Feb-03-22', '09:38AM\\xa0\\xa0', 'Brighton Jones Llc Buys T-Mobile US Inc, Lam Research Corp, Dimensional US Core Equity Market ...'], ['NKE', 'Feb-03-22', '09:38AM\\xa0\\xa0', 'KBC Group NV Buys Nike Inc, Thermo Fisher Scientific Inc, The Walt Disney Co, Sells JPMorgan ...'], ['NKE', 'Feb-02-22', '05:45PM\\xa0\\xa0', 'Nike (NKE) Gains But Lags Market: What You Should Know'], ['NKE', 'Feb-02-22', '04:55PM\\xa0\\xa0', \"Nike goes after 'counterfeit' resellers, faults Amazon, eBay for inaction\"], ['NKE', 'Feb-02-22', '01:38PM\\xa0\\xa0', 'Sigma Planning Corp Buys First Trust Enhanced Short Maturity ETF, First Trust Low Duration ...'], ['NKE', 'Feb-02-22', '01:22PM\\xa0\\xa0', 'Harley-Davidson Taps Nike Vet and a Former Yeezy Collaborator to Help Revamp Apparel Business'], ['NKE', 'Feb-02-22', '12:26PM\\xa0\\xa0', 'Were Hedge Funds Right About NIKE, Inc. (NKE)?'], ['NKE', 'Feb-02-22', '11:00AM\\xa0\\xa0', 'EXCLUSIVE: Harley-Davidson Taps Yeezy Designer Louise Goldin as Creative\\xa0Director'], ['NKE', 'Feb-02-22', '09:38AM\\xa0\\xa0', 'United Super Pty Ltd in its capacity as Trustee for the Construction & Building Unions ...'], ['NKE', 'Feb-01-22', '01:38PM\\xa0\\xa0', 'BCGM Wealth Management, LLC Buys PowerShares QQQ Trust Ser 1, Apple Inc, First Merchants Corp, ...'], ['NKE', 'Feb-01-22', '01:38PM\\xa0\\xa0', 'Oak Ridge Investments Llc Buys Tesla Inc, R1 RCM Inc, TechTarget Inc, Sells LHC Group Inc, ...'], ['NKE', 'Feb-01-22', '01:38PM\\xa0\\xa0', 'Leonard Rickey Investment Advisors P.L.L.C. ...'], ['NKE', 'Feb-01-22', '11:08AM\\xa0\\xa0', 'Is Weakness In NIKE, Inc. (NYSE:NKE) Stock A Sign That The Market Could be Wrong Given Its Strong Financial Prospects?'], ['NKE', 'Feb-01-22', '10:02AM\\xa0\\xa0', 'Market check: Stocks waver at open, tech breaks higher'], ['NKE', 'Feb-01-22', '09:38AM\\xa0\\xa0', 'James Hambro & Partners Buys Netflix Inc, Pool Corp, Union Pacific Corp, Sells Comcast ...'], ['NKE', 'Feb-01-22', '09:38AM\\xa0\\xa0', 'Alphinity Investment Management Pty Ltd Buys Accenture PLC, PepsiCo Inc, Merck Inc, Sells ...'], ['NKE', 'Jan-31-22', '01:56PM\\xa0\\xa0', 'Soccer-Nike suspends relationship with Greenwood amid assault allegations'], ['NKE', 'Jan-31-22', '11:25AM\\xa0\\xa0', \"Five Things for Monday, including Hottest 'Hoods and Nike threads\"], ['NKE', 'Jan-31-22', '09:47AM\\xa0\\xa0', 'Tech Stocks Roundup: Have the Mega-Cap Tech Titans Become too Powerful?'], ['NKE', 'Jan-31-22', '09:38AM\\xa0\\xa0', 'Ariose Capital Management Ltd Buys Qualcomm Inc, The Estee Lauder Inc, NVIDIA Corp, Sells Daqo ...'], ['NKE', 'Jan-31-22', '09:00AM\\xa0\\xa0', 'Philadelphia Eagles to launch girls flag football league for local high schools'], ['NKE', 'Jan-30-22', '06:41PM\\xa0\\xa0', 'These Are The Best Robinhood Stocks To Buy Or Watch Now'], ['NKE', 'Jan-28-22', '05:38PM\\xa0\\xa0', 'Tillar-Wenstrup Advisors, LLC Buys VanEck Investment Grade Floating Rate ETF, Union Pacific ...'], ['NKE', 'Jan-28-22', '04:47PM\\xa0\\xa0', 'Nike reveals designs for its NBA All-Star uniforms'], ['NKE', 'Jan-28-22', '01:38PM\\xa0\\xa0', 'Berkshire Bank Buys BTC iShares Core MSCI EAFE ETF, iShares Core S&P 500 ETF, UnitedHealth ...'], ['NKE', 'Jan-28-22', '01:38PM\\xa0\\xa0', 'PGGM Investments Buys Mid-America Apartment Communities Inc, UDR Inc, Equinix Inc, Sells ...'], ['NKE', 'Jan-28-22', '01:08PM\\xa0\\xa0', 'Will Apple buy Peloton?'], ['NKE', 'Jan-28-22', '12:27PM\\xa0\\xa0', \"Calceus Acquisition, Inc. -- Moody's downgrades Cole Haan's CFR to Caa1; outlook stable\"], ['NKE', 'Jan-28-22', '09:38AM\\xa0\\xa0', 'Vickerman Investment Advisors, Inc. Buys Invesco Ultra Short Duration ETF, Target Corp, PepsiCo ...'], ['NKE', 'Jan-28-22', '09:38AM\\xa0\\xa0', 'Stevens Capital Management Lp Buys VanEck Gold Miners ETF, Boeing Co, Financial Select Sector ...'], ['NKE', 'Jan-27-22', '05:45PM\\xa0\\xa0', 'Nike (NKE) Gains As Market Dips: What You Should Know'], ['NKE', 'Jan-27-22', '01:38PM\\xa0\\xa0', 'Lee Danner & Bass Inc Buys Medtronic PLC, Boeing Co, Nike Inc, Sells The Energy Select ...'], ['NKE', 'Jan-27-22', '01:38PM\\xa0\\xa0', \"Close Asset Management Ltd Buys Avantor Inc, Costco Wholesale Corp, Moody's Corporation, Sells ...\"], ['NKE', 'Jan-27-22', '11:53AM\\xa0\\xa0', 'How the NFL Makes Money: TV, Tickets, and Sponsorships'], ['NKE', 'Jan-27-22', '11:27AM\\xa0\\xa0', 'Nike Is Hiring for The Metaverse With Five Key Positions'], ['NKE', 'Jan-27-22', '10:23AM\\xa0\\xa0', 'Market check: Stocks rise in early trading, Tesla shares fall, Robinhood declines'], ['NKE', 'Jan-27-22', '09:38AM\\xa0\\xa0', 'Seatown Holdings Pte. Ltd. Buys Amazon.com Inc, Air Products & Chemicals Inc, Abbott ...'], ['NKE', 'Jan-26-22', '08:01PM\\xa0\\xa0', 'Nike promotes internal exec to top legal position amid several lawsuits'], ['NKE', 'Jan-26-22', '05:38PM\\xa0\\xa0', 'Tcw Group Inc Buys Nike Inc, Twilio Inc, Roblox Corp, Sells Splunk Inc, Schlumberger, Zimmer ...']]\n"
          ]
        }
      ]
    },
    {
      "cell_type": "code",
      "source": [
        "df = pd.DataFrame(parsed_data, columns = ['Ticker', 'Date', \"Time\", \"Title\"])\n",
        "\n",
        "vader = SentimentIntensityAnalyzer()\n",
        "df['compound'] = df['Title'].apply(lambda title: vader.polarity_scores(title)['compound'])\n",
        "df"
      ],
      "metadata": {
        "colab": {
          "base_uri": "https://localhost:8080/",
          "height": 423
        },
        "id": "_StFPWdhDMLP",
        "outputId": "4a4bde67-21bf-4927-ff3d-875219db492b"
      },
      "execution_count": 93,
      "outputs": [
        {
          "output_type": "execute_result",
          "data": {
            "text/html": [
              "\n",
              "  <div id=\"df-4e0a54c7-750c-4705-a8ad-37b392d2567a\">\n",
              "    <div class=\"colab-df-container\">\n",
              "      <div>\n",
              "<style scoped>\n",
              "    .dataframe tbody tr th:only-of-type {\n",
              "        vertical-align: middle;\n",
              "    }\n",
              "\n",
              "    .dataframe tbody tr th {\n",
              "        vertical-align: top;\n",
              "    }\n",
              "\n",
              "    .dataframe thead th {\n",
              "        text-align: right;\n",
              "    }\n",
              "</style>\n",
              "<table border=\"1\" class=\"dataframe\">\n",
              "  <thead>\n",
              "    <tr style=\"text-align: right;\">\n",
              "      <th></th>\n",
              "      <th>Ticker</th>\n",
              "      <th>Date</th>\n",
              "      <th>Time</th>\n",
              "      <th>Title</th>\n",
              "      <th>compound</th>\n",
              "    </tr>\n",
              "  </thead>\n",
              "  <tbody>\n",
              "    <tr>\n",
              "      <th>0</th>\n",
              "      <td>MSFT</td>\n",
              "      <td>Feb-10-22</td>\n",
              "      <td>03:46PM</td>\n",
              "      <td>Ken Fisher Sold These 10 Stocks Before Enterin...</td>\n",
              "      <td>0.0000</td>\n",
              "    </tr>\n",
              "    <tr>\n",
              "      <th>1</th>\n",
              "      <td>MSFT</td>\n",
              "      <td>Feb-10-22</td>\n",
              "      <td>03:29PM</td>\n",
              "      <td>Morgan Stanley Pounds the Table on Microsoft S...</td>\n",
              "      <td>0.0000</td>\n",
              "    </tr>\n",
              "    <tr>\n",
              "      <th>2</th>\n",
              "      <td>MSFT</td>\n",
              "      <td>Feb-10-22</td>\n",
              "      <td>02:43PM</td>\n",
              "      <td>If your job doesnt give you purposeful work, y...</td>\n",
              "      <td>0.7430</td>\n",
              "    </tr>\n",
              "    <tr>\n",
              "      <th>3</th>\n",
              "      <td>MSFT</td>\n",
              "      <td>Feb-10-22</td>\n",
              "      <td>02:12PM</td>\n",
              "      <td>Stocks' Decline Steepens on Bullard Rate Comme...</td>\n",
              "      <td>0.0000</td>\n",
              "    </tr>\n",
              "    <tr>\n",
              "      <th>4</th>\n",
              "      <td>MSFT</td>\n",
              "      <td>Feb-10-22</td>\n",
              "      <td>01:17PM</td>\n",
              "      <td>Market check: Stocks mixed after inflation pri...</td>\n",
              "      <td>-0.3400</td>\n",
              "    </tr>\n",
              "    <tr>\n",
              "      <th>...</th>\n",
              "      <td>...</td>\n",
              "      <td>...</td>\n",
              "      <td>...</td>\n",
              "      <td>...</td>\n",
              "      <td>...</td>\n",
              "    </tr>\n",
              "    <tr>\n",
              "      <th>295</th>\n",
              "      <td>NKE</td>\n",
              "      <td>Jan-27-22</td>\n",
              "      <td>11:27AM</td>\n",
              "      <td>Nike Is Hiring for The Metaverse With Five Key...</td>\n",
              "      <td>0.0000</td>\n",
              "    </tr>\n",
              "    <tr>\n",
              "      <th>296</th>\n",
              "      <td>NKE</td>\n",
              "      <td>Jan-27-22</td>\n",
              "      <td>10:23AM</td>\n",
              "      <td>Market check: Stocks rise in early trading, Te...</td>\n",
              "      <td>0.2960</td>\n",
              "    </tr>\n",
              "    <tr>\n",
              "      <th>297</th>\n",
              "      <td>NKE</td>\n",
              "      <td>Jan-27-22</td>\n",
              "      <td>09:38AM</td>\n",
              "      <td>Seatown Holdings Pte. Ltd. Buys Amazon.com Inc...</td>\n",
              "      <td>0.0000</td>\n",
              "    </tr>\n",
              "    <tr>\n",
              "      <th>298</th>\n",
              "      <td>NKE</td>\n",
              "      <td>Jan-26-22</td>\n",
              "      <td>08:01PM</td>\n",
              "      <td>Nike promotes internal exec to top legal posit...</td>\n",
              "      <td>0.4767</td>\n",
              "    </tr>\n",
              "    <tr>\n",
              "      <th>299</th>\n",
              "      <td>NKE</td>\n",
              "      <td>Jan-26-22</td>\n",
              "      <td>05:38PM</td>\n",
              "      <td>Tcw Group Inc Buys Nike Inc, Twilio Inc, Roblo...</td>\n",
              "      <td>0.0000</td>\n",
              "    </tr>\n",
              "  </tbody>\n",
              "</table>\n",
              "<p>300 rows × 5 columns</p>\n",
              "</div>\n",
              "      <button class=\"colab-df-convert\" onclick=\"convertToInteractive('df-4e0a54c7-750c-4705-a8ad-37b392d2567a')\"\n",
              "              title=\"Convert this dataframe to an interactive table.\"\n",
              "              style=\"display:none;\">\n",
              "        \n",
              "  <svg xmlns=\"http://www.w3.org/2000/svg\" height=\"24px\"viewBox=\"0 0 24 24\"\n",
              "       width=\"24px\">\n",
              "    <path d=\"M0 0h24v24H0V0z\" fill=\"none\"/>\n",
              "    <path d=\"M18.56 5.44l.94 2.06.94-2.06 2.06-.94-2.06-.94-.94-2.06-.94 2.06-2.06.94zm-11 1L8.5 8.5l.94-2.06 2.06-.94-2.06-.94L8.5 2.5l-.94 2.06-2.06.94zm10 10l.94 2.06.94-2.06 2.06-.94-2.06-.94-.94-2.06-.94 2.06-2.06.94z\"/><path d=\"M17.41 7.96l-1.37-1.37c-.4-.4-.92-.59-1.43-.59-.52 0-1.04.2-1.43.59L10.3 9.45l-7.72 7.72c-.78.78-.78 2.05 0 2.83L4 21.41c.39.39.9.59 1.41.59.51 0 1.02-.2 1.41-.59l7.78-7.78 2.81-2.81c.8-.78.8-2.07 0-2.86zM5.41 20L4 18.59l7.72-7.72 1.47 1.35L5.41 20z\"/>\n",
              "  </svg>\n",
              "      </button>\n",
              "      \n",
              "  <style>\n",
              "    .colab-df-container {\n",
              "      display:flex;\n",
              "      flex-wrap:wrap;\n",
              "      gap: 12px;\n",
              "    }\n",
              "\n",
              "    .colab-df-convert {\n",
              "      background-color: #E8F0FE;\n",
              "      border: none;\n",
              "      border-radius: 50%;\n",
              "      cursor: pointer;\n",
              "      display: none;\n",
              "      fill: #1967D2;\n",
              "      height: 32px;\n",
              "      padding: 0 0 0 0;\n",
              "      width: 32px;\n",
              "    }\n",
              "\n",
              "    .colab-df-convert:hover {\n",
              "      background-color: #E2EBFA;\n",
              "      box-shadow: 0px 1px 2px rgba(60, 64, 67, 0.3), 0px 1px 3px 1px rgba(60, 64, 67, 0.15);\n",
              "      fill: #174EA6;\n",
              "    }\n",
              "\n",
              "    [theme=dark] .colab-df-convert {\n",
              "      background-color: #3B4455;\n",
              "      fill: #D2E3FC;\n",
              "    }\n",
              "\n",
              "    [theme=dark] .colab-df-convert:hover {\n",
              "      background-color: #434B5C;\n",
              "      box-shadow: 0px 1px 3px 1px rgba(0, 0, 0, 0.15);\n",
              "      filter: drop-shadow(0px 1px 2px rgba(0, 0, 0, 0.3));\n",
              "      fill: #FFFFFF;\n",
              "    }\n",
              "  </style>\n",
              "\n",
              "      <script>\n",
              "        const buttonEl =\n",
              "          document.querySelector('#df-4e0a54c7-750c-4705-a8ad-37b392d2567a button.colab-df-convert');\n",
              "        buttonEl.style.display =\n",
              "          google.colab.kernel.accessAllowed ? 'block' : 'none';\n",
              "\n",
              "        async function convertToInteractive(key) {\n",
              "          const element = document.querySelector('#df-4e0a54c7-750c-4705-a8ad-37b392d2567a');\n",
              "          const dataTable =\n",
              "            await google.colab.kernel.invokeFunction('convertToInteractive',\n",
              "                                                     [key], {});\n",
              "          if (!dataTable) return;\n",
              "\n",
              "          const docLinkHtml = 'Like what you see? Visit the ' +\n",
              "            '<a target=\"_blank\" href=https://colab.research.google.com/notebooks/data_table.ipynb>data table notebook</a>'\n",
              "            + ' to learn more about interactive tables.';\n",
              "          element.innerHTML = '';\n",
              "          dataTable['output_type'] = 'display_data';\n",
              "          await google.colab.output.renderOutput(dataTable, element);\n",
              "          const docLink = document.createElement('div');\n",
              "          docLink.innerHTML = docLinkHtml;\n",
              "          element.appendChild(docLink);\n",
              "        }\n",
              "      </script>\n",
              "    </div>\n",
              "  </div>\n",
              "  "
            ],
            "text/plain": [
              "    Ticker  ... compound\n",
              "0     MSFT  ...   0.0000\n",
              "1     MSFT  ...   0.0000\n",
              "2     MSFT  ...   0.7430\n",
              "3     MSFT  ...   0.0000\n",
              "4     MSFT  ...  -0.3400\n",
              "..     ...  ...      ...\n",
              "295    NKE  ...   0.0000\n",
              "296    NKE  ...   0.2960\n",
              "297    NKE  ...   0.0000\n",
              "298    NKE  ...   0.4767\n",
              "299    NKE  ...   0.0000\n",
              "\n",
              "[300 rows x 5 columns]"
            ]
          },
          "metadata": {},
          "execution_count": 93
        }
      ]
    },
    {
      "cell_type": "code",
      "source": [
        "df['Date'] = pd.to_datetime(df.Date).dt.date"
      ],
      "metadata": {
        "id": "e-0CEOsBGWxD"
      },
      "execution_count": 95,
      "outputs": []
    },
    {
      "cell_type": "code",
      "source": [
        "plt.figure(figsize=(20,3))\n",
        "mean_df = df.groupby(['Ticker', 'Date']).mean()\n",
        "mean_df = mean_df.unstack()\n",
        "mean_df = mean_df.xs('compound', axis = 'columns').transpose()\n",
        "mean_df.plot(kind = 'bar')\n",
        "plt.xticks(rotation = 90)\n",
        "plt.show()"
      ],
      "metadata": {
        "colab": {
          "base_uri": "https://localhost:8080/",
          "height": 345
        },
        "id": "j-YPIXYEHZx2",
        "outputId": "bc9931a6-bbee-40c2-9f54-798577a0512b"
      },
      "execution_count": 97,
      "outputs": [
        {
          "output_type": "display_data",
          "data": {
            "text/plain": [
              "<Figure size 1440x216 with 0 Axes>"
            ]
          },
          "metadata": {}
        },
        {
          "output_type": "display_data",
          "data": {
            "image/png": "[encoded data removed]",
            "text/plain": [
              "<Figure size 432x288 with 1 Axes>"
            ]
          },
          "metadata": {
            "needs_background": "light"
          }
        }
      ]
    }
  ]
}